{
 "cells": [
  {
   "cell_type": "code",
   "execution_count": 1,
   "outputs": [],
   "source": [
    "# @formatter:off\n",
    "%load_ext autoreload\n",
    "%autoreload 2\n",
    "# @formatter:on"
   ],
   "metadata": {
    "collapsed": false,
    "ExecuteTime": {
     "end_time": "2024-03-07T08:37:05.601667684Z",
     "start_time": "2024-03-07T08:37:05.601009321Z"
    }
   }
  },
  {
   "cell_type": "code",
   "execution_count": 2,
   "outputs": [],
   "source": [
    "import pandas as pd\n",
    "\n",
    "pd.set_option('display.float_format', lambda x: '%.5f' % x)"
   ],
   "metadata": {
    "collapsed": false,
    "ExecuteTime": {
     "end_time": "2024-03-07T08:37:05.908999629Z",
     "start_time": "2024-03-07T08:37:05.688731025Z"
    }
   }
  },
  {
   "cell_type": "code",
   "execution_count": 3,
   "outputs": [
    {
     "ename": "KeyboardInterrupt",
     "evalue": "",
     "output_type": "error",
     "traceback": [
      "\u001B[0;31m---------------------------------------------------------------------------\u001B[0m",
      "\u001B[0;31mKeyboardInterrupt\u001B[0m                         Traceback (most recent call last)",
      "Cell \u001B[0;32mIn[3], line 49\u001B[0m\n\u001B[1;32m     47\u001B[0m     seed \u001B[38;5;241m=\u001B[39m get_line_data(seed, line, \u001B[38;5;124m'\u001B[39m\u001B[38;5;124mseed\u001B[39m\u001B[38;5;124m'\u001B[39m, \u001B[38;5;28mint\u001B[39m)\n\u001B[1;32m     48\u001B[0m \u001B[38;5;28;01melse\u001B[39;00m:\n\u001B[0;32m---> 49\u001B[0m     line_split \u001B[38;5;241m=\u001B[39m line\u001B[38;5;241m.\u001B[39msplit()\n\u001B[1;32m     50\u001B[0m     cur_line \u001B[38;5;241m=\u001B[39m line_split[\u001B[38;5;241m0\u001B[39m]\n\u001B[1;32m     52\u001B[0m     \u001B[38;5;66;03m# if cur_line == 'impr' or cur_line == 'fast':\u001B[39;00m\n\u001B[1;32m     53\u001B[0m     \u001B[38;5;66;03m#     if float(line_split[1]) <= time_tolerance:\u001B[39;00m\n\u001B[1;32m     54\u001B[0m     \u001B[38;5;66;03m#         best_fitness_in_log = float(line_split[2])\u001B[39;00m\n",
      "\u001B[0;31mKeyboardInterrupt\u001B[0m: "
     ]
    }
   ],
   "source": [
    "import os\n",
    "import itertools\n",
    "\n",
    "results_dir = '../results'\n",
    "fitness_tag = 'fitness: '\n",
    "\n",
    "type_map = {\n",
    "    'bounded-strongly-corr': 'bsc',\n",
    "    'uncorr-similar-weights': 'usw',\n",
    "    'uncorr': 'unc',\n",
    "}\n",
    "\n",
    "def str_to_int(s):\n",
    "    return int(''.join([c for c in s if c.isnumeric()]))\n",
    "\n",
    "def get_line_data(value, line, tag, data_type):\n",
    "    if value is not None:\n",
    "        return value\n",
    "    \n",
    "    tag = f'{tag}: '\n",
    "    if line.startswith(tag):\n",
    "        return data_type(line[len(tag):])\n",
    "    \n",
    "    return None\n",
    "\n",
    "# time_tolerance = 610 \n",
    "results = {}\n",
    "\n",
    "for instance in os.listdir(results_dir):\n",
    "    if not instance.endswith('.flns.log'):\n",
    "        continue\n",
    "\n",
    "    time = None\n",
    "    seed = None\n",
    "    fitness = None\n",
    "    best_fitness_in_log = None\n",
    "    start_count = 1\n",
    "    heuristic_count = 0\n",
    "\n",
    "    with open(os.path.join(results_dir, instance), 'r') as result:\n",
    "        prev_line = 'fast'\n",
    "        \n",
    "        for line in result:\n",
    "            if ':' in line:\n",
    "                time = get_line_data(time, line, 'time', float)\n",
    "                fitness = get_line_data(fitness, line, 'fitness', float)\n",
    "                seed = get_line_data(seed, line, 'seed', int)\n",
    "            else:\n",
    "                line_split = line.split()\n",
    "                cur_line = line_split[0]\n",
    "                \n",
    "                # if cur_line == 'impr' or cur_line == 'fast':\n",
    "                #     if float(line_split[1]) <= time_tolerance:\n",
    "                #         best_fitness_in_log = float(line_split[2])\n",
    "                \n",
    "                if cur_line == 'heur':\n",
    "                    heuristic_count += 1\n",
    "                elif cur_line == 'fast':\n",
    "                    if prev_line != 'fast':\n",
    "                        start_count += 1\n",
    "                \n",
    "                prev_line = cur_line\n",
    "\n",
    "    assert time is not None\n",
    "    assert seed is not None\n",
    "    assert fitness is not None\n",
    "    \n",
    "    # if time > time_tolerance:\n",
    "    #     print(instance, time, best_fitness_in_log, fitness)\n",
    "    \n",
    "    instance = instance.split('.ttp')[0]\n",
    "    \n",
    "    if instance not in results:\n",
    "        results[instance] = []\n",
    "    \n",
    "    result = results[instance]\n",
    "    result.append((seed, fitness, time, start_count, heuristic_count))\n",
    "    \n",
    "df = []    \n",
    "\n",
    "for instance in results:\n",
    "    result = results[instance]\n",
    "    result.sort()\n",
    "    result = list(itertools.chain(*result))\n",
    "    df.append([instance, instance.split('_')[0]] + result)\n",
    "\n",
    "df = pd.DataFrame(df)\n",
    "\n",
    "df = df.sort_values([1, 2])\n",
    "\n",
    "df = df.drop(1, axis=1)\n",
    "\n",
    "columns = [(f'seed{n}', f'fitness{n}', f'time{n}', f'start{n}', f'heuristic{n}') for n in range(1, 6)]\n",
    "columns = list(itertools.chain(*columns))\n",
    "columns = dict(zip(range(2, len(columns) + 2), columns))\n",
    "columns[0] = 'instance'\n",
    "df = df.rename(columns=columns)\n",
    "\n",
    "fitness_cols = ['fitness1', 'fitness2', 'fitness3', 'fitness4', 'fitness5']\n",
    "df['worse'] = df[fitness_cols].min(axis=1)\n",
    "df['median'] = df[fitness_cols].median(axis=1)\n",
    "df['best'] = df[fitness_cols].max(axis=1)\n",
    "df['std'] = df[fitness_cols].std(axis=1)\n",
    "df['coef_var'] = df['std'] / df[fitness_cols].mean(axis=1).abs()\n",
    "\n",
    "columns = df.columns.tolist()\n",
    "df = df[columns[0:1] + columns[-5:] + columns[1:-5]]\n",
    "df"
   ],
   "metadata": {
    "collapsed": false,
    "ExecuteTime": {
     "end_time": "2024-03-07T08:37:22.454359776Z",
     "start_time": "2024-03-07T08:37:07.500314191Z"
    }
   }
  },
  {
   "cell_type": "code",
   "execution_count": null,
   "outputs": [],
   "source": [
    "def to_int(x):\n",
    "    return int(''.join([c for c in x if c.isnumeric()]))\n",
    "\n",
    "inst = df.instance.str.split('_', expand=True)\n",
    "# inst = inst.rename(columns={0: 'tsp', 1: 'cities', 2: 'type', 3: 'capacity'})\n",
    "city_count = inst[0].apply(to_int)\n",
    "item_count = inst[1].apply(to_int)\n",
    "types = inst[2].map({'bounded-strongly-corr': '1', 'uncorr-similar-weights': '2', 'uncorr': '3'})\n",
    "\n",
    "df['tsp'] = inst[0]\n",
    "df['cities'] = city_count\n",
    "df['items'] = item_count // (city_count - 1)\n",
    "df['type'] = types\n",
    "df['capacity'] = inst[3]\n",
    "\n",
    "columns = df.columns.tolist()\n",
    "\n",
    "first_cols = columns[0:1] + columns[-5:]\n",
    "other_cols = [c for c in columns if c not in first_cols]\n",
    "\n",
    "df2 = df[first_cols + other_cols]\n",
    "df2"
   ],
   "metadata": {
    "collapsed": false,
    "ExecuteTime": {
     "start_time": "2024-03-07T08:37:22.455287744Z"
    }
   }
  },
  {
   "cell_type": "code",
   "execution_count": null,
   "outputs": [],
   "source": [
    "df3 = df2.sort_values(by=['cities', 'items', 'type', 'capacity'])\n",
    "df3['type'] = df3['type'].map({'1': 'bsc', '2': 'usw', '3': 'unc'})\n",
    "df3"
   ],
   "metadata": {
    "collapsed": false,
    "ExecuteTime": {
     "start_time": "2024-03-07T08:37:22.455966100Z"
    }
   }
  },
  {
   "cell_type": "code",
   "execution_count": null,
   "outputs": [],
   "source": [
    "time_max = df3[[f'time{t}' for t in range(1, 6)]].max(axis=1)\n",
    "times_described = time_max.describe().reset_index()\n",
    "# times = pd.DataFrame(times[0])\n",
    "times = times_described\n",
    "times = pd.DataFrame([times[0]])\n",
    "times.columns = times_described['index'].tolist()\n",
    "\n",
    "times['<=10'] = (time_max <= 600).sum()\n",
    "times['<=10.10'] = (time_max <= 610).sum()\n",
    "# times = pd.DataFrame(times).pivot(columns='index', values=0)\n",
    "# times = pd.DataFrame(times).transpose()\n",
    "# times\n",
    "times"
   ],
   "metadata": {
    "collapsed": false,
    "ExecuteTime": {
     "start_time": "2024-03-07T08:37:22.456487314Z"
    }
   }
  },
  {
   "cell_type": "code",
   "execution_count": null,
   "outputs": [],
   "source": [
    "df3.to_csv('results/results.csv', index=False)"
   ],
   "metadata": {
    "collapsed": false
   }
  }
 ],
 "metadata": {
  "kernelspec": {
   "display_name": "Python 3",
   "language": "python",
   "name": "python3"
  },
  "language_info": {
   "codemirror_mode": {
    "name": "ipython",
    "version": 2
   },
   "file_extension": ".py",
   "mimetype": "text/x-python",
   "name": "python",
   "nbconvert_exporter": "python",
   "pygments_lexer": "ipython2",
   "version": "2.7.6"
  }
 },
 "nbformat": 4,
 "nbformat_minor": 0
}
