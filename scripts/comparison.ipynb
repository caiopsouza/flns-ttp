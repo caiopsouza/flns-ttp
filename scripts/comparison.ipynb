{
 "cells": [
  {
   "cell_type": "code",
   "execution_count": 1,
   "outputs": [],
   "source": [
    "# @formatter:off\n",
    "%load_ext autoreload\n",
    "%autoreload 2\n",
    "# @formatter:on"
   ],
   "metadata": {
    "collapsed": false,
    "ExecuteTime": {
     "end_time": "2024-03-30T00:39:59.454202170Z",
     "start_time": "2024-03-30T00:39:59.453681416Z"
    }
   }
  },
  {
   "cell_type": "code",
   "execution_count": 2,
   "outputs": [],
   "source": [
    "import pandas as pd\n",
    "\n",
    "pd.set_option('display.float_format', lambda x: '%.10f' % x)"
   ],
   "metadata": {
    "collapsed": false,
    "ExecuteTime": {
     "end_time": "2024-03-30T00:39:59.666736229Z",
     "start_time": "2024-03-30T00:39:59.453946647Z"
    }
   }
  },
  {
   "cell_type": "code",
   "execution_count": 3,
   "outputs": [
    {
     "data": {
      "text/plain": "                                        instance       tsp  cities  items  \\\n0             eil51_n50_bounded-strongly-corr_01     eil51      51      1   \n1             eil51_n50_bounded-strongly-corr_02     eil51      51      1   \n2             eil51_n50_bounded-strongly-corr_03     eil51      51      1   \n3             eil51_n50_bounded-strongly-corr_04     eil51      51      1   \n4             eil51_n50_bounded-strongly-corr_05     eil51      51      1   \n...                                          ...       ...     ...    ...   \n9715  pla85900_n858990_uncorr-similar-weights_06  pla85900   85900     10   \n9716  pla85900_n858990_uncorr-similar-weights_07  pla85900   85900     10   \n9717  pla85900_n858990_uncorr-similar-weights_08  pla85900   85900     10   \n9718  pla85900_n858990_uncorr-similar-weights_09  pla85900   85900     10   \n9719  pla85900_n858990_uncorr-similar-weights_10  pla85900   85900     10   \n\n     type  capacity                 best                 algo  \\\n0     bsc         1      4269.0000000000     M4,M3B,M4B,MEA2P   \n1     bsc         2      5571.0000000000            M4B,MEA2P   \n2     bsc         3      5885.0000000000            M4B,MEA2P   \n3     bsc         4      6397.0000000000                 JC17   \n4     bsc         5      5138.0000000000  NDSBRKGA,JC17,MEA2P   \n...   ...       ...                  ...                  ...   \n9715  usw         6  76211200.0000000000                MATLS   \n9716  usw         7  84815500.0000000000                MATLS   \n9717  usw         8 105513000.0000000000                MATLS   \n9718  usw         9 118020000.0000000000                MATLS   \n9719  usw        10 117528665.0000000000                   S4   \n\n                       S1                   S2  ...  WC17             HLS  \\\n0         3840.4520680000      3837.0072700000  ...  -inf 3841.0000000000   \n1         5075.7174860000      5075.7174860000  ...  -inf            -inf   \n2         5100.5995240000      4213.8373470000  ...  -inf            -inf   \n3         5531.3229710000      4115.1480280000  ...  -inf            -inf   \n4         3924.9208940000      2266.4643350000  ...  -inf            -inf   \n...                   ...                  ...  ...   ...             ...   \n9715  74534846.5600000024  74609484.7600000054  ...  -inf            -inf   \n9716  80474011.2800000012  83967841.2000000030  ...  -inf            -inf   \n9717  91815323.9699999988  92852232.8799999952  ...  -inf            -inf   \n9718 100651276.2999999970 102193481.9000000060  ...  -inf            -inf   \n9719 114321668.4000000060 114837608.0999999940  ...  -inf            -inf   \n\n      CS2SA*  CS2SA-R  JNB  J2B           MEA2P  COCO  COCOP  COCOL  \n0       -inf     -inf -inf -inf 4269.0000000000  -inf   -inf   -inf  \n1       -inf     -inf -inf -inf 5571.0000000000  -inf   -inf   -inf  \n2       -inf     -inf -inf -inf 5885.0000000000  -inf   -inf   -inf  \n3       -inf     -inf -inf -inf 6386.0000000000  -inf   -inf   -inf  \n4       -inf     -inf -inf -inf 5138.0000000000  -inf   -inf   -inf  \n...      ...      ...  ...  ...             ...   ...    ...    ...  \n9715    -inf     -inf -inf -inf            -inf  -inf   -inf   -inf  \n9716    -inf     -inf -inf -inf            -inf  -inf   -inf   -inf  \n9717    -inf     -inf -inf -inf            -inf  -inf   -inf   -inf  \n9718    -inf     -inf -inf -inf            -inf  -inf   -inf   -inf  \n9719    -inf     -inf -inf -inf            -inf  -inf   -inf   -inf  \n\n[9720 rows x 43 columns]",
      "text/html": "<div>\n<style scoped>\n    .dataframe tbody tr th:only-of-type {\n        vertical-align: middle;\n    }\n\n    .dataframe tbody tr th {\n        vertical-align: top;\n    }\n\n    .dataframe thead th {\n        text-align: right;\n    }\n</style>\n<table border=\"1\" class=\"dataframe\">\n  <thead>\n    <tr style=\"text-align: right;\">\n      <th></th>\n      <th>instance</th>\n      <th>tsp</th>\n      <th>cities</th>\n      <th>items</th>\n      <th>type</th>\n      <th>capacity</th>\n      <th>best</th>\n      <th>algo</th>\n      <th>S1</th>\n      <th>S2</th>\n      <th>...</th>\n      <th>WC17</th>\n      <th>HLS</th>\n      <th>CS2SA*</th>\n      <th>CS2SA-R</th>\n      <th>JNB</th>\n      <th>J2B</th>\n      <th>MEA2P</th>\n      <th>COCO</th>\n      <th>COCOP</th>\n      <th>COCOL</th>\n    </tr>\n  </thead>\n  <tbody>\n    <tr>\n      <th>0</th>\n      <td>eil51_n50_bounded-strongly-corr_01</td>\n      <td>eil51</td>\n      <td>51</td>\n      <td>1</td>\n      <td>bsc</td>\n      <td>1</td>\n      <td>4269.0000000000</td>\n      <td>M4,M3B,M4B,MEA2P</td>\n      <td>3840.4520680000</td>\n      <td>3837.0072700000</td>\n      <td>...</td>\n      <td>-inf</td>\n      <td>3841.0000000000</td>\n      <td>-inf</td>\n      <td>-inf</td>\n      <td>-inf</td>\n      <td>-inf</td>\n      <td>4269.0000000000</td>\n      <td>-inf</td>\n      <td>-inf</td>\n      <td>-inf</td>\n    </tr>\n    <tr>\n      <th>1</th>\n      <td>eil51_n50_bounded-strongly-corr_02</td>\n      <td>eil51</td>\n      <td>51</td>\n      <td>1</td>\n      <td>bsc</td>\n      <td>2</td>\n      <td>5571.0000000000</td>\n      <td>M4B,MEA2P</td>\n      <td>5075.7174860000</td>\n      <td>5075.7174860000</td>\n      <td>...</td>\n      <td>-inf</td>\n      <td>-inf</td>\n      <td>-inf</td>\n      <td>-inf</td>\n      <td>-inf</td>\n      <td>-inf</td>\n      <td>5571.0000000000</td>\n      <td>-inf</td>\n      <td>-inf</td>\n      <td>-inf</td>\n    </tr>\n    <tr>\n      <th>2</th>\n      <td>eil51_n50_bounded-strongly-corr_03</td>\n      <td>eil51</td>\n      <td>51</td>\n      <td>1</td>\n      <td>bsc</td>\n      <td>3</td>\n      <td>5885.0000000000</td>\n      <td>M4B,MEA2P</td>\n      <td>5100.5995240000</td>\n      <td>4213.8373470000</td>\n      <td>...</td>\n      <td>-inf</td>\n      <td>-inf</td>\n      <td>-inf</td>\n      <td>-inf</td>\n      <td>-inf</td>\n      <td>-inf</td>\n      <td>5885.0000000000</td>\n      <td>-inf</td>\n      <td>-inf</td>\n      <td>-inf</td>\n    </tr>\n    <tr>\n      <th>3</th>\n      <td>eil51_n50_bounded-strongly-corr_04</td>\n      <td>eil51</td>\n      <td>51</td>\n      <td>1</td>\n      <td>bsc</td>\n      <td>4</td>\n      <td>6397.0000000000</td>\n      <td>JC17</td>\n      <td>5531.3229710000</td>\n      <td>4115.1480280000</td>\n      <td>...</td>\n      <td>-inf</td>\n      <td>-inf</td>\n      <td>-inf</td>\n      <td>-inf</td>\n      <td>-inf</td>\n      <td>-inf</td>\n      <td>6386.0000000000</td>\n      <td>-inf</td>\n      <td>-inf</td>\n      <td>-inf</td>\n    </tr>\n    <tr>\n      <th>4</th>\n      <td>eil51_n50_bounded-strongly-corr_05</td>\n      <td>eil51</td>\n      <td>51</td>\n      <td>1</td>\n      <td>bsc</td>\n      <td>5</td>\n      <td>5138.0000000000</td>\n      <td>NDSBRKGA,JC17,MEA2P</td>\n      <td>3924.9208940000</td>\n      <td>2266.4643350000</td>\n      <td>...</td>\n      <td>-inf</td>\n      <td>-inf</td>\n      <td>-inf</td>\n      <td>-inf</td>\n      <td>-inf</td>\n      <td>-inf</td>\n      <td>5138.0000000000</td>\n      <td>-inf</td>\n      <td>-inf</td>\n      <td>-inf</td>\n    </tr>\n    <tr>\n      <th>...</th>\n      <td>...</td>\n      <td>...</td>\n      <td>...</td>\n      <td>...</td>\n      <td>...</td>\n      <td>...</td>\n      <td>...</td>\n      <td>...</td>\n      <td>...</td>\n      <td>...</td>\n      <td>...</td>\n      <td>...</td>\n      <td>...</td>\n      <td>...</td>\n      <td>...</td>\n      <td>...</td>\n      <td>...</td>\n      <td>...</td>\n      <td>...</td>\n      <td>...</td>\n      <td>...</td>\n    </tr>\n    <tr>\n      <th>9715</th>\n      <td>pla85900_n858990_uncorr-similar-weights_06</td>\n      <td>pla85900</td>\n      <td>85900</td>\n      <td>10</td>\n      <td>usw</td>\n      <td>6</td>\n      <td>76211200.0000000000</td>\n      <td>MATLS</td>\n      <td>74534846.5600000024</td>\n      <td>74609484.7600000054</td>\n      <td>...</td>\n      <td>-inf</td>\n      <td>-inf</td>\n      <td>-inf</td>\n      <td>-inf</td>\n      <td>-inf</td>\n      <td>-inf</td>\n      <td>-inf</td>\n      <td>-inf</td>\n      <td>-inf</td>\n      <td>-inf</td>\n    </tr>\n    <tr>\n      <th>9716</th>\n      <td>pla85900_n858990_uncorr-similar-weights_07</td>\n      <td>pla85900</td>\n      <td>85900</td>\n      <td>10</td>\n      <td>usw</td>\n      <td>7</td>\n      <td>84815500.0000000000</td>\n      <td>MATLS</td>\n      <td>80474011.2800000012</td>\n      <td>83967841.2000000030</td>\n      <td>...</td>\n      <td>-inf</td>\n      <td>-inf</td>\n      <td>-inf</td>\n      <td>-inf</td>\n      <td>-inf</td>\n      <td>-inf</td>\n      <td>-inf</td>\n      <td>-inf</td>\n      <td>-inf</td>\n      <td>-inf</td>\n    </tr>\n    <tr>\n      <th>9717</th>\n      <td>pla85900_n858990_uncorr-similar-weights_08</td>\n      <td>pla85900</td>\n      <td>85900</td>\n      <td>10</td>\n      <td>usw</td>\n      <td>8</td>\n      <td>105513000.0000000000</td>\n      <td>MATLS</td>\n      <td>91815323.9699999988</td>\n      <td>92852232.8799999952</td>\n      <td>...</td>\n      <td>-inf</td>\n      <td>-inf</td>\n      <td>-inf</td>\n      <td>-inf</td>\n      <td>-inf</td>\n      <td>-inf</td>\n      <td>-inf</td>\n      <td>-inf</td>\n      <td>-inf</td>\n      <td>-inf</td>\n    </tr>\n    <tr>\n      <th>9718</th>\n      <td>pla85900_n858990_uncorr-similar-weights_09</td>\n      <td>pla85900</td>\n      <td>85900</td>\n      <td>10</td>\n      <td>usw</td>\n      <td>9</td>\n      <td>118020000.0000000000</td>\n      <td>MATLS</td>\n      <td>100651276.2999999970</td>\n      <td>102193481.9000000060</td>\n      <td>...</td>\n      <td>-inf</td>\n      <td>-inf</td>\n      <td>-inf</td>\n      <td>-inf</td>\n      <td>-inf</td>\n      <td>-inf</td>\n      <td>-inf</td>\n      <td>-inf</td>\n      <td>-inf</td>\n      <td>-inf</td>\n    </tr>\n    <tr>\n      <th>9719</th>\n      <td>pla85900_n858990_uncorr-similar-weights_10</td>\n      <td>pla85900</td>\n      <td>85900</td>\n      <td>10</td>\n      <td>usw</td>\n      <td>10</td>\n      <td>117528665.0000000000</td>\n      <td>S4</td>\n      <td>114321668.4000000060</td>\n      <td>114837608.0999999940</td>\n      <td>...</td>\n      <td>-inf</td>\n      <td>-inf</td>\n      <td>-inf</td>\n      <td>-inf</td>\n      <td>-inf</td>\n      <td>-inf</td>\n      <td>-inf</td>\n      <td>-inf</td>\n      <td>-inf</td>\n      <td>-inf</td>\n    </tr>\n  </tbody>\n</table>\n<p>9720 rows × 43 columns</p>\n</div>"
     },
     "execution_count": 3,
     "metadata": {},
     "output_type": "execute_result"
    }
   ],
   "source": [
    "bkr = pd.read_csv('bkr/bkrs.csv')\n",
    "bkr"
   ],
   "metadata": {
    "collapsed": false,
    "ExecuteTime": {
     "end_time": "2024-03-30T00:39:59.909589566Z",
     "start_time": "2024-03-30T00:39:59.817653305Z"
    }
   }
  },
  {
   "cell_type": "code",
   "execution_count": 4,
   "outputs": [
    {
     "data": {
      "text/plain": "                                instance       tsp  cities  items type  \\\n0     eil51_n50_bounded-strongly-corr_01     eil51      51      1  bsc   \n1     eil51_n50_bounded-strongly-corr_02     eil51      51      1  bsc   \n2     eil51_n50_bounded-strongly-corr_03     eil51      51      1  bsc   \n3     eil51_n50_bounded-strongly-corr_04     eil51      51      1  bsc   \n4     eil51_n50_bounded-strongly-corr_05     eil51      51      1  bsc   \n...                                  ...       ...     ...    ...  ...   \n9715          pla85900_n858990_uncorr_06  pla85900   85900     10  unc   \n9716          pla85900_n858990_uncorr_07  pla85900   85900     10  unc   \n9717          pla85900_n858990_uncorr_08  pla85900   85900     10  unc   \n9718          pla85900_n858990_uncorr_09  pla85900   85900     10  unc   \n9719          pla85900_n858990_uncorr_10  pla85900   85900     10  unc   \n\n      capacity                worse               median                 best  \\\n0            1      4269.3561913801      4269.3561913801      4269.3561913801   \n1            2      5571.1627694641      5571.1627694641      5571.1627694641   \n2            3      5884.5081778335      5884.5081778335      5884.5081778335   \n3            4      6396.8543667647      6396.8543667647      6396.8543667647   \n4            5      5138.3885217048      5138.3885217048      5138.3885217048   \n...        ...                  ...                  ...                  ...   \n9715         6  82077426.9063825905  91353826.3333728015  97143125.8873024434   \n9716         7 101263392.7250949442 104683184.7218485624 107566632.6949909627   \n9717         8  95907505.3655712605  99190179.9114215970 113241228.9462804794   \n9718         9 119441535.7172974348 121873094.7048707157 122977892.5972211808   \n9719        10 116716512.1867838353 117699615.9200132340 133719979.5388336629   \n\n                    std  ...  seed4             fitness4           time4  \\\n0          0.0000000000  ...    361      4269.3561913801    1.8833955840   \n1          0.0000000000  ...    362      5571.1627694641    4.5023412740   \n2          0.0000000000  ...    363      5884.5081778335    5.3783017990   \n3          0.0000000000  ...    364      6396.8543667647   35.8255395460   \n4          0.0000000000  ...    365      5138.3885217048    8.5976161540   \n...                 ...  ...    ...                  ...             ...   \n9715 5884499.2096584216  ...    476  92858866.0477362424  712.1367941220   \n9716 2343060.5598511398  ...    477 104683184.7218485624  609.5716577920   \n9717 8342108.7339453474  ...    478  98815233.3961430937  739.5078731610   \n9718 1764383.4418843826  ...    479 119441535.7172974348  690.7864818130   \n9719 8958048.2954703551  ...    480 116716512.1867838353 1003.0297641490   \n\n      start4  heuristic4  seed5             fitness5          time5  start5  \\\n0        174        1042    481      4269.3561913801   0.7381710390     179   \n1        126         752    482      5571.1627694641   1.9394706950     143   \n2        137         821    483      5884.5081778335  56.8275378810     127   \n3        126         751    484      6396.8543667647  10.6523533920     131   \n4        111         664    485      5138.3885217048   0.6576601190      95   \n...      ...         ...    ...                  ...            ...     ...   \n9715       1           0    596  86160074.3616075516 607.7964599160       1   \n9716       1           0    597 107566632.6949909627 621.9317434610       1   \n9717       1           0    598  95907505.3655712605 637.9805132930       1   \n9718       1           0    599 121873094.7048707157 603.2666170400       1   \n9719       1           0    600 116990510.6832123548 971.2424065430       1   \n\n      heuristic5  \n0           1074  \n1            853  \n2            759  \n3            785  \n4            567  \n...          ...  \n9715           0  \n9716           0  \n9717           0  \n9718           0  \n9719           0  \n\n[9720 rows x 36 columns]",
      "text/html": "<div>\n<style scoped>\n    .dataframe tbody tr th:only-of-type {\n        vertical-align: middle;\n    }\n\n    .dataframe tbody tr th {\n        vertical-align: top;\n    }\n\n    .dataframe thead th {\n        text-align: right;\n    }\n</style>\n<table border=\"1\" class=\"dataframe\">\n  <thead>\n    <tr style=\"text-align: right;\">\n      <th></th>\n      <th>instance</th>\n      <th>tsp</th>\n      <th>cities</th>\n      <th>items</th>\n      <th>type</th>\n      <th>capacity</th>\n      <th>worse</th>\n      <th>median</th>\n      <th>best</th>\n      <th>std</th>\n      <th>...</th>\n      <th>seed4</th>\n      <th>fitness4</th>\n      <th>time4</th>\n      <th>start4</th>\n      <th>heuristic4</th>\n      <th>seed5</th>\n      <th>fitness5</th>\n      <th>time5</th>\n      <th>start5</th>\n      <th>heuristic5</th>\n    </tr>\n  </thead>\n  <tbody>\n    <tr>\n      <th>0</th>\n      <td>eil51_n50_bounded-strongly-corr_01</td>\n      <td>eil51</td>\n      <td>51</td>\n      <td>1</td>\n      <td>bsc</td>\n      <td>1</td>\n      <td>4269.3561913801</td>\n      <td>4269.3561913801</td>\n      <td>4269.3561913801</td>\n      <td>0.0000000000</td>\n      <td>...</td>\n      <td>361</td>\n      <td>4269.3561913801</td>\n      <td>1.8833955840</td>\n      <td>174</td>\n      <td>1042</td>\n      <td>481</td>\n      <td>4269.3561913801</td>\n      <td>0.7381710390</td>\n      <td>179</td>\n      <td>1074</td>\n    </tr>\n    <tr>\n      <th>1</th>\n      <td>eil51_n50_bounded-strongly-corr_02</td>\n      <td>eil51</td>\n      <td>51</td>\n      <td>1</td>\n      <td>bsc</td>\n      <td>2</td>\n      <td>5571.1627694641</td>\n      <td>5571.1627694641</td>\n      <td>5571.1627694641</td>\n      <td>0.0000000000</td>\n      <td>...</td>\n      <td>362</td>\n      <td>5571.1627694641</td>\n      <td>4.5023412740</td>\n      <td>126</td>\n      <td>752</td>\n      <td>482</td>\n      <td>5571.1627694641</td>\n      <td>1.9394706950</td>\n      <td>143</td>\n      <td>853</td>\n    </tr>\n    <tr>\n      <th>2</th>\n      <td>eil51_n50_bounded-strongly-corr_03</td>\n      <td>eil51</td>\n      <td>51</td>\n      <td>1</td>\n      <td>bsc</td>\n      <td>3</td>\n      <td>5884.5081778335</td>\n      <td>5884.5081778335</td>\n      <td>5884.5081778335</td>\n      <td>0.0000000000</td>\n      <td>...</td>\n      <td>363</td>\n      <td>5884.5081778335</td>\n      <td>5.3783017990</td>\n      <td>137</td>\n      <td>821</td>\n      <td>483</td>\n      <td>5884.5081778335</td>\n      <td>56.8275378810</td>\n      <td>127</td>\n      <td>759</td>\n    </tr>\n    <tr>\n      <th>3</th>\n      <td>eil51_n50_bounded-strongly-corr_04</td>\n      <td>eil51</td>\n      <td>51</td>\n      <td>1</td>\n      <td>bsc</td>\n      <td>4</td>\n      <td>6396.8543667647</td>\n      <td>6396.8543667647</td>\n      <td>6396.8543667647</td>\n      <td>0.0000000000</td>\n      <td>...</td>\n      <td>364</td>\n      <td>6396.8543667647</td>\n      <td>35.8255395460</td>\n      <td>126</td>\n      <td>751</td>\n      <td>484</td>\n      <td>6396.8543667647</td>\n      <td>10.6523533920</td>\n      <td>131</td>\n      <td>785</td>\n    </tr>\n    <tr>\n      <th>4</th>\n      <td>eil51_n50_bounded-strongly-corr_05</td>\n      <td>eil51</td>\n      <td>51</td>\n      <td>1</td>\n      <td>bsc</td>\n      <td>5</td>\n      <td>5138.3885217048</td>\n      <td>5138.3885217048</td>\n      <td>5138.3885217048</td>\n      <td>0.0000000000</td>\n      <td>...</td>\n      <td>365</td>\n      <td>5138.3885217048</td>\n      <td>8.5976161540</td>\n      <td>111</td>\n      <td>664</td>\n      <td>485</td>\n      <td>5138.3885217048</td>\n      <td>0.6576601190</td>\n      <td>95</td>\n      <td>567</td>\n    </tr>\n    <tr>\n      <th>...</th>\n      <td>...</td>\n      <td>...</td>\n      <td>...</td>\n      <td>...</td>\n      <td>...</td>\n      <td>...</td>\n      <td>...</td>\n      <td>...</td>\n      <td>...</td>\n      <td>...</td>\n      <td>...</td>\n      <td>...</td>\n      <td>...</td>\n      <td>...</td>\n      <td>...</td>\n      <td>...</td>\n      <td>...</td>\n      <td>...</td>\n      <td>...</td>\n      <td>...</td>\n      <td>...</td>\n    </tr>\n    <tr>\n      <th>9715</th>\n      <td>pla85900_n858990_uncorr_06</td>\n      <td>pla85900</td>\n      <td>85900</td>\n      <td>10</td>\n      <td>unc</td>\n      <td>6</td>\n      <td>82077426.9063825905</td>\n      <td>91353826.3333728015</td>\n      <td>97143125.8873024434</td>\n      <td>5884499.2096584216</td>\n      <td>...</td>\n      <td>476</td>\n      <td>92858866.0477362424</td>\n      <td>712.1367941220</td>\n      <td>1</td>\n      <td>0</td>\n      <td>596</td>\n      <td>86160074.3616075516</td>\n      <td>607.7964599160</td>\n      <td>1</td>\n      <td>0</td>\n    </tr>\n    <tr>\n      <th>9716</th>\n      <td>pla85900_n858990_uncorr_07</td>\n      <td>pla85900</td>\n      <td>85900</td>\n      <td>10</td>\n      <td>unc</td>\n      <td>7</td>\n      <td>101263392.7250949442</td>\n      <td>104683184.7218485624</td>\n      <td>107566632.6949909627</td>\n      <td>2343060.5598511398</td>\n      <td>...</td>\n      <td>477</td>\n      <td>104683184.7218485624</td>\n      <td>609.5716577920</td>\n      <td>1</td>\n      <td>0</td>\n      <td>597</td>\n      <td>107566632.6949909627</td>\n      <td>621.9317434610</td>\n      <td>1</td>\n      <td>0</td>\n    </tr>\n    <tr>\n      <th>9717</th>\n      <td>pla85900_n858990_uncorr_08</td>\n      <td>pla85900</td>\n      <td>85900</td>\n      <td>10</td>\n      <td>unc</td>\n      <td>8</td>\n      <td>95907505.3655712605</td>\n      <td>99190179.9114215970</td>\n      <td>113241228.9462804794</td>\n      <td>8342108.7339453474</td>\n      <td>...</td>\n      <td>478</td>\n      <td>98815233.3961430937</td>\n      <td>739.5078731610</td>\n      <td>1</td>\n      <td>0</td>\n      <td>598</td>\n      <td>95907505.3655712605</td>\n      <td>637.9805132930</td>\n      <td>1</td>\n      <td>0</td>\n    </tr>\n    <tr>\n      <th>9718</th>\n      <td>pla85900_n858990_uncorr_09</td>\n      <td>pla85900</td>\n      <td>85900</td>\n      <td>10</td>\n      <td>unc</td>\n      <td>9</td>\n      <td>119441535.7172974348</td>\n      <td>121873094.7048707157</td>\n      <td>122977892.5972211808</td>\n      <td>1764383.4418843826</td>\n      <td>...</td>\n      <td>479</td>\n      <td>119441535.7172974348</td>\n      <td>690.7864818130</td>\n      <td>1</td>\n      <td>0</td>\n      <td>599</td>\n      <td>121873094.7048707157</td>\n      <td>603.2666170400</td>\n      <td>1</td>\n      <td>0</td>\n    </tr>\n    <tr>\n      <th>9719</th>\n      <td>pla85900_n858990_uncorr_10</td>\n      <td>pla85900</td>\n      <td>85900</td>\n      <td>10</td>\n      <td>unc</td>\n      <td>10</td>\n      <td>116716512.1867838353</td>\n      <td>117699615.9200132340</td>\n      <td>133719979.5388336629</td>\n      <td>8958048.2954703551</td>\n      <td>...</td>\n      <td>480</td>\n      <td>116716512.1867838353</td>\n      <td>1003.0297641490</td>\n      <td>1</td>\n      <td>0</td>\n      <td>600</td>\n      <td>116990510.6832123548</td>\n      <td>971.2424065430</td>\n      <td>1</td>\n      <td>0</td>\n    </tr>\n  </tbody>\n</table>\n<p>9720 rows × 36 columns</p>\n</div>"
     },
     "execution_count": 4,
     "metadata": {},
     "output_type": "execute_result"
    }
   ],
   "source": [
    "results = pd.read_csv('results/results.csv')\n",
    "results"
   ],
   "metadata": {
    "collapsed": false,
    "ExecuteTime": {
     "end_time": "2024-03-30T00:40:01.656887118Z",
     "start_time": "2024-03-30T00:40:01.596193289Z"
    }
   }
  },
  {
   "cell_type": "code",
   "execution_count": 5,
   "outputs": [
    {
     "data": {
      "text/plain": "                                        instance                diff  \\\n1725                        pr107_n318_uncorr_06        0.0241700000   \n1177                      kroB100_n495_uncorr_07        0.0542000000   \n818                        kroC100_n99_uncorr_07        0.0554400000   \n1709        pr107_n106_uncorr-similar-weights_10        0.0672100000   \n2293                        pr144_n143_uncorr_04        0.0698700000   \n...                                          ...                 ...   \n9717  pla85900_n858990_uncorr-similar-weights_08 11913467.7300000042   \n9707                  pla85900_n858990_uncorr_08 13744461.0000000000   \n9709                  pla85900_n858990_uncorr_10 13829358.0999999940   \n9719  pla85900_n858990_uncorr-similar-weights_10 15801383.7999999970   \n9718  pla85900_n858990_uncorr-similar-weights_09 18024269.9000000060   \n\n                    worse               median             best_res  \\\n1725     33448.0241706669     33448.0000000000     33448.0241706669   \n1177     49775.0542023212     49775.0000000000     49775.0542023212   \n818      16090.0554350532     16090.0000000000     16090.0554350532   \n1709     10925.0672065955     10925.0000000000     10925.0672065955   \n2293     12322.0698675009     12322.0000000000     12322.0698675009   \n...                   ...                  ...                  ...   \n9717  75820912.5618348718  78311987.0000000000  93370635.5001217127   \n9707  95907505.3655712605  99190180.0000000000 113241228.9462804794   \n9709 116716512.1867838353 117699616.0000000000 133719979.5388336629   \n9719  90674938.1754526049  98055033.0000000000 116520211.0326255262   \n9718  82883234.6994337887  87275765.0000000000 104920657.5824223161   \n\n                 best_bkr                                               algo  \\\n1725     33448.0000000000               S4,S5,C2,C3,C4,C5,C6,M3,M3B,M4B,MY17   \n1177     49775.0000000000  S1,S2,S4,S5,C2,C3,C4,C5,C6,M3,M4,M3B,M4B,JC17,...   \n818      16090.0000000000  S1,S2,S4,S5,C1,C3,C4,C5,C6,M3,M4,M3B,M4B,JC17,...   \n1709     10925.0000000000             S5,C3,C4,C5,C6,M3,M4,M3B,M4B,JC17,MY17   \n2293     12322.0000000000       S1,S2,S4,S5,C3,C5,C6,M3,M4,M3B,M4B,JC17,MY17   \n...                   ...                                                ...   \n9717 105513000.0000000000                                              MATLS   \n9707 115169000.0000000000                                              MATLS   \n9709 133941836.0000000000                                                 C6   \n9719 117528665.0000000000                                                 S4   \n9718 118020000.0000000000                                              MATLS   \n\n                       S5  \n1725     33448.0241700000  \n1177     49775.0542000000  \n818      16090.0554400000  \n1709     10925.0672100000  \n2293     12322.0698700000  \n...                   ...  \n9717  90225454.7300000042  \n9707 112934641.0000000000  \n9709 131528974.0999999940  \n9719 113856416.7999999970  \n9718 105300034.9000000060  \n\n[898 rows x 8 columns]",
      "text/html": "<div>\n<style scoped>\n    .dataframe tbody tr th:only-of-type {\n        vertical-align: middle;\n    }\n\n    .dataframe tbody tr th {\n        vertical-align: top;\n    }\n\n    .dataframe thead th {\n        text-align: right;\n    }\n</style>\n<table border=\"1\" class=\"dataframe\">\n  <thead>\n    <tr style=\"text-align: right;\">\n      <th></th>\n      <th>instance</th>\n      <th>diff</th>\n      <th>worse</th>\n      <th>median</th>\n      <th>best_res</th>\n      <th>best_bkr</th>\n      <th>algo</th>\n      <th>S5</th>\n    </tr>\n  </thead>\n  <tbody>\n    <tr>\n      <th>1725</th>\n      <td>pr107_n318_uncorr_06</td>\n      <td>0.0241700000</td>\n      <td>33448.0241706669</td>\n      <td>33448.0000000000</td>\n      <td>33448.0241706669</td>\n      <td>33448.0000000000</td>\n      <td>S4,S5,C2,C3,C4,C5,C6,M3,M3B,M4B,MY17</td>\n      <td>33448.0241700000</td>\n    </tr>\n    <tr>\n      <th>1177</th>\n      <td>kroB100_n495_uncorr_07</td>\n      <td>0.0542000000</td>\n      <td>49775.0542023212</td>\n      <td>49775.0000000000</td>\n      <td>49775.0542023212</td>\n      <td>49775.0000000000</td>\n      <td>S1,S2,S4,S5,C2,C3,C4,C5,C6,M3,M4,M3B,M4B,JC17,...</td>\n      <td>49775.0542000000</td>\n    </tr>\n    <tr>\n      <th>818</th>\n      <td>kroC100_n99_uncorr_07</td>\n      <td>0.0554400000</td>\n      <td>16090.0554350532</td>\n      <td>16090.0000000000</td>\n      <td>16090.0554350532</td>\n      <td>16090.0000000000</td>\n      <td>S1,S2,S4,S5,C1,C3,C4,C5,C6,M3,M4,M3B,M4B,JC17,...</td>\n      <td>16090.0554400000</td>\n    </tr>\n    <tr>\n      <th>1709</th>\n      <td>pr107_n106_uncorr-similar-weights_10</td>\n      <td>0.0672100000</td>\n      <td>10925.0672065955</td>\n      <td>10925.0000000000</td>\n      <td>10925.0672065955</td>\n      <td>10925.0000000000</td>\n      <td>S5,C3,C4,C5,C6,M3,M4,M3B,M4B,JC17,MY17</td>\n      <td>10925.0672100000</td>\n    </tr>\n    <tr>\n      <th>2293</th>\n      <td>pr144_n143_uncorr_04</td>\n      <td>0.0698700000</td>\n      <td>12322.0698675009</td>\n      <td>12322.0000000000</td>\n      <td>12322.0698675009</td>\n      <td>12322.0000000000</td>\n      <td>S1,S2,S4,S5,C3,C5,C6,M3,M4,M3B,M4B,JC17,MY17</td>\n      <td>12322.0698700000</td>\n    </tr>\n    <tr>\n      <th>...</th>\n      <td>...</td>\n      <td>...</td>\n      <td>...</td>\n      <td>...</td>\n      <td>...</td>\n      <td>...</td>\n      <td>...</td>\n      <td>...</td>\n    </tr>\n    <tr>\n      <th>9717</th>\n      <td>pla85900_n858990_uncorr-similar-weights_08</td>\n      <td>11913467.7300000042</td>\n      <td>75820912.5618348718</td>\n      <td>78311987.0000000000</td>\n      <td>93370635.5001217127</td>\n      <td>105513000.0000000000</td>\n      <td>MATLS</td>\n      <td>90225454.7300000042</td>\n    </tr>\n    <tr>\n      <th>9707</th>\n      <td>pla85900_n858990_uncorr_08</td>\n      <td>13744461.0000000000</td>\n      <td>95907505.3655712605</td>\n      <td>99190180.0000000000</td>\n      <td>113241228.9462804794</td>\n      <td>115169000.0000000000</td>\n      <td>MATLS</td>\n      <td>112934641.0000000000</td>\n    </tr>\n    <tr>\n      <th>9709</th>\n      <td>pla85900_n858990_uncorr_10</td>\n      <td>13829358.0999999940</td>\n      <td>116716512.1867838353</td>\n      <td>117699616.0000000000</td>\n      <td>133719979.5388336629</td>\n      <td>133941836.0000000000</td>\n      <td>C6</td>\n      <td>131528974.0999999940</td>\n    </tr>\n    <tr>\n      <th>9719</th>\n      <td>pla85900_n858990_uncorr-similar-weights_10</td>\n      <td>15801383.7999999970</td>\n      <td>90674938.1754526049</td>\n      <td>98055033.0000000000</td>\n      <td>116520211.0326255262</td>\n      <td>117528665.0000000000</td>\n      <td>S4</td>\n      <td>113856416.7999999970</td>\n    </tr>\n    <tr>\n      <th>9718</th>\n      <td>pla85900_n858990_uncorr-similar-weights_09</td>\n      <td>18024269.9000000060</td>\n      <td>82883234.6994337887</td>\n      <td>87275765.0000000000</td>\n      <td>104920657.5824223161</td>\n      <td>118020000.0000000000</td>\n      <td>MATLS</td>\n      <td>105300034.9000000060</td>\n    </tr>\n  </tbody>\n</table>\n<p>898 rows × 8 columns</p>\n</div>"
     },
     "execution_count": 5,
     "metadata": {},
     "output_type": "execute_result"
    }
   ],
   "source": [
    "comp = results.merge(bkr, on='instance', how='right', suffixes=['_res', '_bkr'])\n",
    "comp.instance = comp.instance.astype(str)\n",
    "\n",
    "comp['median'] = comp['median'].round( )\n",
    "\n",
    "algos = ['best_bkr', 'S1', 'S2', 'S3', 'S4', 'S5', 'C1', 'C2', 'C3', 'C4', 'C5', 'C6', 'MATLS', 'DH', 'M3', 'M4', 'M3B', 'M4B', 'RLS', 'EA', 'SH', 'NDSBRKGA', 'WSM', 'JK17', 'WC17', 'HLS', 'CS2SA*', 'CS2SA-R']\n",
    "\n",
    "for algo in algos:\n",
    "    comp[algo] = comp[algo].round(5)\n",
    "    comp[f'{algo}_impr'] = comp['median'] >= comp[algo]\n",
    "\n",
    "def worse(df, algo):\n",
    "    df = df.copy()\n",
    "    df['diff'] = df[algo] - df['median']\n",
    "    df = df[df['median'] < df[algo]]\n",
    "    df = df.sort_values('diff')\n",
    "    return df[['instance', 'diff', 'worse', 'median', 'best_res', 'best_bkr', 'algo', algo]]\n",
    "\n",
    "worse(comp, 'S5')\n",
    "\n",
    "# comp = comp[[f'{algo}_impr' for algo in algos]]\n",
    "# comp.sum()"
   ],
   "metadata": {
    "collapsed": false,
    "ExecuteTime": {
     "end_time": "2024-03-30T00:40:04.036787221Z",
     "start_time": "2024-03-30T00:40:03.985858875Z"
    }
   }
  },
  {
   "cell_type": "code",
   "execution_count": null,
   "outputs": [],
   "source": [],
   "metadata": {
    "collapsed": false
   }
  }
 ],
 "metadata": {
  "kernelspec": {
   "display_name": "Python 3",
   "language": "python",
   "name": "python3"
  },
  "language_info": {
   "codemirror_mode": {
    "name": "ipython",
    "version": 2
   },
   "file_extension": ".py",
   "mimetype": "text/x-python",
   "name": "python",
   "nbconvert_exporter": "python",
   "pygments_lexer": "ipython2",
   "version": "2.7.6"
  }
 },
 "nbformat": 4,
 "nbformat_minor": 0
}
