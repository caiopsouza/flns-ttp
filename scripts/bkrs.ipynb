{
 "cells": [
  {
   "cell_type": "code",
   "execution_count": 1,
   "outputs": [],
   "source": [
    "# @formatter:off\n",
    "%load_ext autoreload\n",
    "%autoreload 2\n",
    "# @formatter:on"
   ],
   "metadata": {
    "collapsed": false,
    "ExecuteTime": {
     "end_time": "2024-03-12T13:40:59.308526207Z",
     "start_time": "2024-03-12T13:40:59.308033730Z"
    }
   }
  },
  {
   "cell_type": "code",
   "execution_count": 2,
   "outputs": [],
   "source": [
    "import pandas as pd\n",
    "import numpy as np"
   ],
   "metadata": {
    "collapsed": false,
    "ExecuteTime": {
     "end_time": "2024-03-12T13:40:59.488773765Z",
     "start_time": "2024-03-12T13:40:59.308179948Z"
    }
   }
  },
  {
   "cell_type": "code",
   "execution_count": 3,
   "outputs": [
    {
     "data": {
      "text/plain": "                                 instance            S1            S2  \\\n0     a280_n1395_bounded-strongly-corr_01  7.648135e+04  8.245072e+04   \n1     a280_n1395_bounded-strongly-corr_02  1.201774e+05  1.301069e+05   \n2     a280_n1395_bounded-strongly-corr_03  1.729048e+05  1.729055e+05   \n3     a280_n1395_bounded-strongly-corr_04  2.141209e+05  2.119578e+05   \n4     a280_n1395_bounded-strongly-corr_05  2.464019e+05  2.439733e+05   \n...                                   ...           ...           ...   \n9715               vm1748_n8735_uncorr_06  1.203344e+06  1.094759e+06   \n9716               vm1748_n8735_uncorr_07  1.320074e+06  1.109405e+06   \n9717               vm1748_n8735_uncorr_08  1.275541e+06  1.267903e+06   \n9718               vm1748_n8735_uncorr_09  1.343335e+06  1.283295e+06   \n9719               vm1748_n8735_uncorr_10  1.404159e+06  1.457046e+06   \n\n                S3            S4            S5            C1            C2  \\\n0     7.677137e+04  7.647560e+04  8.331469e+04  7.709975e+04  7.697390e+04   \n1     1.203900e+05  1.203795e+05  1.306789e+05  1.208391e+05  1.198123e+05   \n2     1.728364e+05  1.730303e+05  1.811881e+05  1.721561e+05  1.709111e+05   \n3     2.139785e+05  2.141791e+05  2.198310e+05  2.114792e+05  2.106451e+05   \n4     2.455584e+05  2.464010e+05  2.502974e+05  2.413093e+05  2.473246e+05   \n...            ...           ...           ...           ...           ...   \n9715  1.095134e+06  1.217105e+06  1.264470e+06  1.261437e+06  1.087540e+06   \n9716  1.178990e+06  1.298596e+06  1.357221e+06  1.298422e+06  1.307883e+06   \n9717  1.270089e+06  1.266871e+06  1.452186e+06  1.277506e+06  1.273754e+06   \n9718  1.463895e+06  1.350134e+06  1.516501e+06  1.251552e+06  1.352369e+06   \n9719  1.571022e+06  1.462917e+06  1.613179e+06  1.367478e+06  1.465146e+06   \n\n                C3            C4  ...            C6      MATLS          DH  \\\n0     8.323303e+04  8.320100e+04  ...  8.315880e+04    77913.8    55198.56   \n1     1.307390e+05  1.305421e+05  ...  1.305508e+05   127957.0   101334.82   \n2     1.812498e+05  1.812115e+05  ...  1.810167e+05   173654.0   152657.81   \n3     2.195892e+05  2.197766e+05  ...  2.195955e+05   218040.0   203622.09   \n4     2.498944e+05  2.501594e+05  ...  2.502626e+05   249675.0   232866.37   \n...            ...           ...  ...           ...        ...         ...   \n9715  1.238324e+06  1.241851e+06  ...  1.055949e+06  1323810.0   780570.29   \n9716  1.344152e+06  1.364655e+06  ...  1.136844e+06  1367510.0   892525.10   \n9717  1.441984e+06  1.459599e+06  ...  1.230396e+06  1539580.0  1018179.93   \n9718  1.516935e+06  1.484805e+06  ...  1.309687e+06  1510480.0  1120441.73   \n9719  1.591339e+06  1.644564e+06  ...  1.559792e+06  1656930.0  1262379.16   \n\n                M3            M4           M3B           M4B           RLS  \\\n0     8.311772e+04  8.284699e+04  8.275413e+04  8.266190e+04  6.913898e+04   \n1     1.298630e+05  1.299798e+05  1.296955e+05  1.293960e+05  1.208572e+05   \n2     1.800891e+05  1.800572e+05  1.793823e+05  1.790620e+05  1.730937e+05   \n3     2.195924e+05  2.187289e+05  2.187881e+05  2.177624e+05  2.144354e+05   \n4     2.510043e+05  2.508659e+05  2.510172e+05  2.504088e+05  2.468132e+05   \n...            ...           ...           ...           ...           ...   \n9715  1.273714e+06  1.288634e+06  1.264943e+06  1.240507e+06  1.185449e+06   \n9716  1.360496e+06  1.342451e+06           NaN           NaN  1.271623e+06   \n9717  1.477591e+06  1.432176e+06  1.364025e+06           NaN  1.365403e+06   \n9718  1.529396e+06  1.505760e+06           NaN  1.491012e+06  1.440849e+06   \n9719  1.633094e+06  1.596414e+06  1.572511e+06  1.555479e+06  1.551358e+06   \n\n                EA         SH  \n0     7.167063e+04   55198.56  \n1     1.210495e+05  101939.56  \n2     1.730041e+05  149443.10  \n3     2.144314e+05  184570.86  \n4     2.468610e+05  203014.84  \n...            ...        ...  \n9715  1.185450e+06 -359929.56  \n9716  1.271190e+06 -323170.08  \n9717  1.365382e+06 -247642.07  \n9718  1.440857e+06 -188423.16  \n9719  1.551358e+06  447868.57  \n\n[9720 rows x 21 columns]",
      "text/html": "<div>\n<style scoped>\n    .dataframe tbody tr th:only-of-type {\n        vertical-align: middle;\n    }\n\n    .dataframe tbody tr th {\n        vertical-align: top;\n    }\n\n    .dataframe thead th {\n        text-align: right;\n    }\n</style>\n<table border=\"1\" class=\"dataframe\">\n  <thead>\n    <tr style=\"text-align: right;\">\n      <th></th>\n      <th>instance</th>\n      <th>S1</th>\n      <th>S2</th>\n      <th>S3</th>\n      <th>S4</th>\n      <th>S5</th>\n      <th>C1</th>\n      <th>C2</th>\n      <th>C3</th>\n      <th>C4</th>\n      <th>...</th>\n      <th>C6</th>\n      <th>MATLS</th>\n      <th>DH</th>\n      <th>M3</th>\n      <th>M4</th>\n      <th>M3B</th>\n      <th>M4B</th>\n      <th>RLS</th>\n      <th>EA</th>\n      <th>SH</th>\n    </tr>\n  </thead>\n  <tbody>\n    <tr>\n      <th>0</th>\n      <td>a280_n1395_bounded-strongly-corr_01</td>\n      <td>7.648135e+04</td>\n      <td>8.245072e+04</td>\n      <td>7.677137e+04</td>\n      <td>7.647560e+04</td>\n      <td>8.331469e+04</td>\n      <td>7.709975e+04</td>\n      <td>7.697390e+04</td>\n      <td>8.323303e+04</td>\n      <td>8.320100e+04</td>\n      <td>...</td>\n      <td>8.315880e+04</td>\n      <td>77913.8</td>\n      <td>55198.56</td>\n      <td>8.311772e+04</td>\n      <td>8.284699e+04</td>\n      <td>8.275413e+04</td>\n      <td>8.266190e+04</td>\n      <td>6.913898e+04</td>\n      <td>7.167063e+04</td>\n      <td>55198.56</td>\n    </tr>\n    <tr>\n      <th>1</th>\n      <td>a280_n1395_bounded-strongly-corr_02</td>\n      <td>1.201774e+05</td>\n      <td>1.301069e+05</td>\n      <td>1.203900e+05</td>\n      <td>1.203795e+05</td>\n      <td>1.306789e+05</td>\n      <td>1.208391e+05</td>\n      <td>1.198123e+05</td>\n      <td>1.307390e+05</td>\n      <td>1.305421e+05</td>\n      <td>...</td>\n      <td>1.305508e+05</td>\n      <td>127957.0</td>\n      <td>101334.82</td>\n      <td>1.298630e+05</td>\n      <td>1.299798e+05</td>\n      <td>1.296955e+05</td>\n      <td>1.293960e+05</td>\n      <td>1.208572e+05</td>\n      <td>1.210495e+05</td>\n      <td>101939.56</td>\n    </tr>\n    <tr>\n      <th>2</th>\n      <td>a280_n1395_bounded-strongly-corr_03</td>\n      <td>1.729048e+05</td>\n      <td>1.729055e+05</td>\n      <td>1.728364e+05</td>\n      <td>1.730303e+05</td>\n      <td>1.811881e+05</td>\n      <td>1.721561e+05</td>\n      <td>1.709111e+05</td>\n      <td>1.812498e+05</td>\n      <td>1.812115e+05</td>\n      <td>...</td>\n      <td>1.810167e+05</td>\n      <td>173654.0</td>\n      <td>152657.81</td>\n      <td>1.800891e+05</td>\n      <td>1.800572e+05</td>\n      <td>1.793823e+05</td>\n      <td>1.790620e+05</td>\n      <td>1.730937e+05</td>\n      <td>1.730041e+05</td>\n      <td>149443.10</td>\n    </tr>\n    <tr>\n      <th>3</th>\n      <td>a280_n1395_bounded-strongly-corr_04</td>\n      <td>2.141209e+05</td>\n      <td>2.119578e+05</td>\n      <td>2.139785e+05</td>\n      <td>2.141791e+05</td>\n      <td>2.198310e+05</td>\n      <td>2.114792e+05</td>\n      <td>2.106451e+05</td>\n      <td>2.195892e+05</td>\n      <td>2.197766e+05</td>\n      <td>...</td>\n      <td>2.195955e+05</td>\n      <td>218040.0</td>\n      <td>203622.09</td>\n      <td>2.195924e+05</td>\n      <td>2.187289e+05</td>\n      <td>2.187881e+05</td>\n      <td>2.177624e+05</td>\n      <td>2.144354e+05</td>\n      <td>2.144314e+05</td>\n      <td>184570.86</td>\n    </tr>\n    <tr>\n      <th>4</th>\n      <td>a280_n1395_bounded-strongly-corr_05</td>\n      <td>2.464019e+05</td>\n      <td>2.439733e+05</td>\n      <td>2.455584e+05</td>\n      <td>2.464010e+05</td>\n      <td>2.502974e+05</td>\n      <td>2.413093e+05</td>\n      <td>2.473246e+05</td>\n      <td>2.498944e+05</td>\n      <td>2.501594e+05</td>\n      <td>...</td>\n      <td>2.502626e+05</td>\n      <td>249675.0</td>\n      <td>232866.37</td>\n      <td>2.510043e+05</td>\n      <td>2.508659e+05</td>\n      <td>2.510172e+05</td>\n      <td>2.504088e+05</td>\n      <td>2.468132e+05</td>\n      <td>2.468610e+05</td>\n      <td>203014.84</td>\n    </tr>\n    <tr>\n      <th>...</th>\n      <td>...</td>\n      <td>...</td>\n      <td>...</td>\n      <td>...</td>\n      <td>...</td>\n      <td>...</td>\n      <td>...</td>\n      <td>...</td>\n      <td>...</td>\n      <td>...</td>\n      <td>...</td>\n      <td>...</td>\n      <td>...</td>\n      <td>...</td>\n      <td>...</td>\n      <td>...</td>\n      <td>...</td>\n      <td>...</td>\n      <td>...</td>\n      <td>...</td>\n      <td>...</td>\n    </tr>\n    <tr>\n      <th>9715</th>\n      <td>vm1748_n8735_uncorr_06</td>\n      <td>1.203344e+06</td>\n      <td>1.094759e+06</td>\n      <td>1.095134e+06</td>\n      <td>1.217105e+06</td>\n      <td>1.264470e+06</td>\n      <td>1.261437e+06</td>\n      <td>1.087540e+06</td>\n      <td>1.238324e+06</td>\n      <td>1.241851e+06</td>\n      <td>...</td>\n      <td>1.055949e+06</td>\n      <td>1323810.0</td>\n      <td>780570.29</td>\n      <td>1.273714e+06</td>\n      <td>1.288634e+06</td>\n      <td>1.264943e+06</td>\n      <td>1.240507e+06</td>\n      <td>1.185449e+06</td>\n      <td>1.185450e+06</td>\n      <td>-359929.56</td>\n    </tr>\n    <tr>\n      <th>9716</th>\n      <td>vm1748_n8735_uncorr_07</td>\n      <td>1.320074e+06</td>\n      <td>1.109405e+06</td>\n      <td>1.178990e+06</td>\n      <td>1.298596e+06</td>\n      <td>1.357221e+06</td>\n      <td>1.298422e+06</td>\n      <td>1.307883e+06</td>\n      <td>1.344152e+06</td>\n      <td>1.364655e+06</td>\n      <td>...</td>\n      <td>1.136844e+06</td>\n      <td>1367510.0</td>\n      <td>892525.10</td>\n      <td>1.360496e+06</td>\n      <td>1.342451e+06</td>\n      <td>NaN</td>\n      <td>NaN</td>\n      <td>1.271623e+06</td>\n      <td>1.271190e+06</td>\n      <td>-323170.08</td>\n    </tr>\n    <tr>\n      <th>9717</th>\n      <td>vm1748_n8735_uncorr_08</td>\n      <td>1.275541e+06</td>\n      <td>1.267903e+06</td>\n      <td>1.270089e+06</td>\n      <td>1.266871e+06</td>\n      <td>1.452186e+06</td>\n      <td>1.277506e+06</td>\n      <td>1.273754e+06</td>\n      <td>1.441984e+06</td>\n      <td>1.459599e+06</td>\n      <td>...</td>\n      <td>1.230396e+06</td>\n      <td>1539580.0</td>\n      <td>1018179.93</td>\n      <td>1.477591e+06</td>\n      <td>1.432176e+06</td>\n      <td>1.364025e+06</td>\n      <td>NaN</td>\n      <td>1.365403e+06</td>\n      <td>1.365382e+06</td>\n      <td>-247642.07</td>\n    </tr>\n    <tr>\n      <th>9718</th>\n      <td>vm1748_n8735_uncorr_09</td>\n      <td>1.343335e+06</td>\n      <td>1.283295e+06</td>\n      <td>1.463895e+06</td>\n      <td>1.350134e+06</td>\n      <td>1.516501e+06</td>\n      <td>1.251552e+06</td>\n      <td>1.352369e+06</td>\n      <td>1.516935e+06</td>\n      <td>1.484805e+06</td>\n      <td>...</td>\n      <td>1.309687e+06</td>\n      <td>1510480.0</td>\n      <td>1120441.73</td>\n      <td>1.529396e+06</td>\n      <td>1.505760e+06</td>\n      <td>NaN</td>\n      <td>1.491012e+06</td>\n      <td>1.440849e+06</td>\n      <td>1.440857e+06</td>\n      <td>-188423.16</td>\n    </tr>\n    <tr>\n      <th>9719</th>\n      <td>vm1748_n8735_uncorr_10</td>\n      <td>1.404159e+06</td>\n      <td>1.457046e+06</td>\n      <td>1.571022e+06</td>\n      <td>1.462917e+06</td>\n      <td>1.613179e+06</td>\n      <td>1.367478e+06</td>\n      <td>1.465146e+06</td>\n      <td>1.591339e+06</td>\n      <td>1.644564e+06</td>\n      <td>...</td>\n      <td>1.559792e+06</td>\n      <td>1656930.0</td>\n      <td>1262379.16</td>\n      <td>1.633094e+06</td>\n      <td>1.596414e+06</td>\n      <td>1.572511e+06</td>\n      <td>1.555479e+06</td>\n      <td>1.551358e+06</td>\n      <td>1.551358e+06</td>\n      <td>447868.57</td>\n    </tr>\n  </tbody>\n</table>\n<p>9720 rows × 21 columns</p>\n</div>"
     },
     "execution_count": 3,
     "metadata": {},
     "output_type": "execute_result"
    }
   ],
   "source": [
    "# Source: A case study of algorithm selection for the traveling thief problem\n",
    "# 1 run. 10 minutes per instance\n",
    "# I have excluded CS2SA because there was an error on the fitness calculation at the time of this paper\n",
    "\n",
    "algos = ['S1', 'S2', 'S3', 'S4', 'S5', 'C1', 'C2', 'C3', 'C4', 'C5', 'C6', 'MATLS', 'DH', 'M3', 'M4', 'M3B', 'M4B',\n",
    "         'RLS', 'EA', 'SH']\n",
    "\n",
    "bkr_a_case = pd.read_csv('bkr/160624-21algs-scmatls-1run.csv')\n",
    "bkr_a_case['instance'] = bkr_a_case['instance'].str[:-4]\n",
    "bkr_a_case = bkr_a_case[['instance'] + algos]\n",
    "bkr_a_case"
   ],
   "metadata": {
    "collapsed": false,
    "ExecuteTime": {
     "end_time": "2024-03-12T13:40:59.555550796Z",
     "start_time": "2024-03-12T13:40:59.489547756Z"
    }
   }
  },
  {
   "cell_type": "code",
   "execution_count": 4,
   "outputs": [
    {
     "data": {
      "text/plain": "                                       instance      NDSBRKGA           WSM\n0            eil51_n50_bounded-strongly-corr_01  4.059900e+03  4.206551e+03\n1            eil51_n50_bounded-strongly-corr_02  5.464437e+03  5.116350e+03\n2            eil51_n50_bounded-strongly-corr_03  5.728534e+03  5.104189e+03\n3            eil51_n50_bounded-strongly-corr_04  6.081138e+03  5.531323e+03\n4            eil51_n50_bounded-strongly-corr_05  5.138389e+03  3.924921e+03\n..                                          ...           ...           ...\n955  pla85900_n858990_uncorr-similar-weights_06  5.932210e+07  7.455733e+07\n956  pla85900_n858990_uncorr-similar-weights_07  7.035516e+07  8.332241e+07\n957  pla85900_n858990_uncorr-similar-weights_08  8.250196e+07  9.318076e+07\n958  pla85900_n858990_uncorr-similar-weights_09  9.555599e+07  1.042024e+08\n959  pla85900_n858990_uncorr-similar-weights_10  1.098843e+08  1.168051e+08\n\n[960 rows x 3 columns]",
      "text/html": "<div>\n<style scoped>\n    .dataframe tbody tr th:only-of-type {\n        vertical-align: middle;\n    }\n\n    .dataframe tbody tr th {\n        vertical-align: top;\n    }\n\n    .dataframe thead th {\n        text-align: right;\n    }\n</style>\n<table border=\"1\" class=\"dataframe\">\n  <thead>\n    <tr style=\"text-align: right;\">\n      <th></th>\n      <th>instance</th>\n      <th>NDSBRKGA</th>\n      <th>WSM</th>\n    </tr>\n  </thead>\n  <tbody>\n    <tr>\n      <th>0</th>\n      <td>eil51_n50_bounded-strongly-corr_01</td>\n      <td>4.059900e+03</td>\n      <td>4.206551e+03</td>\n    </tr>\n    <tr>\n      <th>1</th>\n      <td>eil51_n50_bounded-strongly-corr_02</td>\n      <td>5.464437e+03</td>\n      <td>5.116350e+03</td>\n    </tr>\n    <tr>\n      <th>2</th>\n      <td>eil51_n50_bounded-strongly-corr_03</td>\n      <td>5.728534e+03</td>\n      <td>5.104189e+03</td>\n    </tr>\n    <tr>\n      <th>3</th>\n      <td>eil51_n50_bounded-strongly-corr_04</td>\n      <td>6.081138e+03</td>\n      <td>5.531323e+03</td>\n    </tr>\n    <tr>\n      <th>4</th>\n      <td>eil51_n50_bounded-strongly-corr_05</td>\n      <td>5.138389e+03</td>\n      <td>3.924921e+03</td>\n    </tr>\n    <tr>\n      <th>...</th>\n      <td>...</td>\n      <td>...</td>\n      <td>...</td>\n    </tr>\n    <tr>\n      <th>955</th>\n      <td>pla85900_n858990_uncorr-similar-weights_06</td>\n      <td>5.932210e+07</td>\n      <td>7.455733e+07</td>\n    </tr>\n    <tr>\n      <th>956</th>\n      <td>pla85900_n858990_uncorr-similar-weights_07</td>\n      <td>7.035516e+07</td>\n      <td>8.332241e+07</td>\n    </tr>\n    <tr>\n      <th>957</th>\n      <td>pla85900_n858990_uncorr-similar-weights_08</td>\n      <td>8.250196e+07</td>\n      <td>9.318076e+07</td>\n    </tr>\n    <tr>\n      <th>958</th>\n      <td>pla85900_n858990_uncorr-similar-weights_09</td>\n      <td>9.555599e+07</td>\n      <td>1.042024e+08</td>\n    </tr>\n    <tr>\n      <th>959</th>\n      <td>pla85900_n858990_uncorr-similar-weights_10</td>\n      <td>1.098843e+08</td>\n      <td>1.168051e+08</td>\n    </tr>\n  </tbody>\n</table>\n<p>960 rows × 3 columns</p>\n</div>"
     },
     "execution_count": 4,
     "metadata": {},
     "output_type": "execute_result"
    }
   ],
   "source": [
    "# Source: A weighted-sum method for solving the bi-objective traveling thief problem\n",
    "# 30 runs. Chosen meadian. 10 minutes per instance.\n",
    "# Parameter tuned\n",
    "# Developed for the BITTP, comparison might be unfair\n",
    "bkr_wsm = pd.read_excel('bkr/results.xlsx', sheet_name='best_ttp_scores')\n",
    "\n",
    "NDSBRKGA_cols = [f'run #{i:02}' for i in range(1, 31)]\n",
    "bkr_wsm['NDSBRKGA'] = bkr_wsm[NDSBRKGA_cols].median(axis=1)\n",
    "\n",
    "WSM_cols = [f'run #{i:02}.1' for i in range(1, 31)]\n",
    "bkr_wsm['WSM'] = bkr_wsm[WSM_cols].median(axis=1)\n",
    "\n",
    "bkr_wsm = bkr_wsm[['instance', 'NDSBRKGA', 'WSM']]\n",
    "\n",
    "bkr_wsm"
   ],
   "metadata": {
    "collapsed": false,
    "ExecuteTime": {
     "end_time": "2024-03-12T13:41:00.106502663Z",
     "start_time": "2024-03-12T13:40:59.555383753Z"
    }
   }
  },
  {
   "cell_type": "code",
   "execution_count": 5,
   "outputs": [
    {
     "data": {
      "text/plain": "                                 instance  JK17         JC17         MY17  \\\n0                     eil51_n50_uncorr_01  -inf  2871.364574  2507.478521   \n1      eil51_n50_bounded-strongly-corr_01  -inf  4147.237397  4217.303700   \n2                     eil51_n50_uncorr_02  -inf  4892.491603  4311.878656   \n3     eil51_n50_uncorr-similar-weights_01  -inf  1459.953436  1313.927809   \n4                     eil51_n50_uncorr_03  -inf  5404.156963  4675.875025   \n...                                   ...   ...          ...          ...   \n9806                                 -inf  -inf         -inf         -inf   \n9807                                 -inf  -inf         -inf         -inf   \n9808                                 -inf  -inf         -inf         -inf   \n9809                                 -inf  -inf         -inf         -inf   \n9810                                 -inf  -inf         -inf         -inf   \n\n      WC17  \n0     -inf  \n1     -inf  \n2     -inf  \n3     -inf  \n4     -inf  \n...    ...  \n9806  -inf  \n9807  -inf  \n9808  -inf  \n9809  -inf  \n9810  -inf  \n\n[9811 rows x 5 columns]",
      "text/html": "<div>\n<style scoped>\n    .dataframe tbody tr th:only-of-type {\n        vertical-align: middle;\n    }\n\n    .dataframe tbody tr th {\n        vertical-align: top;\n    }\n\n    .dataframe thead th {\n        text-align: right;\n    }\n</style>\n<table border=\"1\" class=\"dataframe\">\n  <thead>\n    <tr style=\"text-align: right;\">\n      <th></th>\n      <th>instance</th>\n      <th>JK17</th>\n      <th>JC17</th>\n      <th>MY17</th>\n      <th>WC17</th>\n    </tr>\n  </thead>\n  <tbody>\n    <tr>\n      <th>0</th>\n      <td>eil51_n50_uncorr_01</td>\n      <td>-inf</td>\n      <td>2871.364574</td>\n      <td>2507.478521</td>\n      <td>-inf</td>\n    </tr>\n    <tr>\n      <th>1</th>\n      <td>eil51_n50_bounded-strongly-corr_01</td>\n      <td>-inf</td>\n      <td>4147.237397</td>\n      <td>4217.303700</td>\n      <td>-inf</td>\n    </tr>\n    <tr>\n      <th>2</th>\n      <td>eil51_n50_uncorr_02</td>\n      <td>-inf</td>\n      <td>4892.491603</td>\n      <td>4311.878656</td>\n      <td>-inf</td>\n    </tr>\n    <tr>\n      <th>3</th>\n      <td>eil51_n50_uncorr-similar-weights_01</td>\n      <td>-inf</td>\n      <td>1459.953436</td>\n      <td>1313.927809</td>\n      <td>-inf</td>\n    </tr>\n    <tr>\n      <th>4</th>\n      <td>eil51_n50_uncorr_03</td>\n      <td>-inf</td>\n      <td>5404.156963</td>\n      <td>4675.875025</td>\n      <td>-inf</td>\n    </tr>\n    <tr>\n      <th>...</th>\n      <td>...</td>\n      <td>...</td>\n      <td>...</td>\n      <td>...</td>\n      <td>...</td>\n    </tr>\n    <tr>\n      <th>9806</th>\n      <td>-inf</td>\n      <td>-inf</td>\n      <td>-inf</td>\n      <td>-inf</td>\n      <td>-inf</td>\n    </tr>\n    <tr>\n      <th>9807</th>\n      <td>-inf</td>\n      <td>-inf</td>\n      <td>-inf</td>\n      <td>-inf</td>\n      <td>-inf</td>\n    </tr>\n    <tr>\n      <th>9808</th>\n      <td>-inf</td>\n      <td>-inf</td>\n      <td>-inf</td>\n      <td>-inf</td>\n      <td>-inf</td>\n    </tr>\n    <tr>\n      <th>9809</th>\n      <td>-inf</td>\n      <td>-inf</td>\n      <td>-inf</td>\n      <td>-inf</td>\n      <td>-inf</td>\n    </tr>\n    <tr>\n      <th>9810</th>\n      <td>-inf</td>\n      <td>-inf</td>\n      <td>-inf</td>\n      <td>-inf</td>\n      <td>-inf</td>\n    </tr>\n  </tbody>\n</table>\n<p>9811 rows × 5 columns</p>\n</div>"
     },
     "execution_count": 5,
     "metadata": {},
     "output_type": "execute_result"
    }
   ],
   "source": [
    "# Source: Competition 2017: https://cs.adelaide.edu.au/~optlog/TTP2017Comp/#RESULTS\n",
    "# No resource limits, participants send solutions.\n",
    "bkr_comp_2017 = pd.read_excel('bkr/170716summaryTrack1.xlsx', skiprows=4)\n",
    "\n",
    "bkr_comp_2017['instance'] = bkr_comp_2017['instance'].str[:-4]\n",
    "\n",
    "bkr_comp_2017 = bkr_comp_2017[['instance', 'JohannesKarder', 'JonatasChagas', 'MohamedElYafrani', 'WimVanCroonenburg']]\n",
    "\n",
    "bkr_comp_2017.fillna(-np.inf, inplace=True)\n",
    "\n",
    "bkr_comp_2017.rename(columns={'JohannesKarder': 'JK17', 'JonatasChagas': 'JC17', 'MohamedElYafrani': 'MY17',\n",
    "                              'WimVanCroonenburg': 'WC17'}, inplace=True)\n",
    "\n",
    "bkr_comp_2017"
   ],
   "metadata": {
    "collapsed": false,
    "ExecuteTime": {
     "end_time": "2024-03-12T13:41:02.265506957Z",
     "start_time": "2024-03-12T13:41:00.101667245Z"
    }
   }
  },
  {
   "cell_type": "code",
   "execution_count": 6,
   "outputs": [
    {
     "data": {
      "text/plain": "                                      instance    CS2SA*   CS2SA-R\n0           eil76_n75_bounded-strongly-corr_01      3423      3842\n1         kroA100_n99_bounded-strongly-corr_01      4420      4594\n2          ch130_n129_bounded-strongly-corr_01      8982      9239\n3           u159_n158_bounded-strongly-corr_01      8459      8560\n4           a280_n279_bounded-strongly-corr_01     17726     18044\n5           u574_n573_bounded-strongly-corr_01     26173     25383\n6           u724_n723_bounded-strongly-corr_01     49713     47759\n7        dsj1000_n999_bounded-strongly-corr_01    144219    144219\n8        rl1304_n1303_bounded-strongly-corr_01     75699     73557\n9        fl1577_n1576_bounded-strongly-corr_01     88006     84590\n10        d2103_n2102_bounded-strongly-corr_01    118845    117960\n11      pcb3038_n3037_bounded-strongly-corr_01    145338    145955\n12      fnl4461_n4460_bounded-strongly-corr_01    240240    240726\n13      pla7397_n7396_bounded-strongly-corr_01    315154    325852\n14     rl11849_n11848_bounded-strongly-corr_01    657842    643738\n15    usa13509_n13508_bounded-strongly-corr_01    682268    700243\n16    brd14051_n14050_bounded-strongly-corr_01    802424    799957\n17      d15112_n15111_bounded-strongly-corr_01    870301    871284\n18      d18512_n18511_bounded-strongly-corr_01    964757    971153\n19    pla33810_n33809_bounded-strongly-corr_01   1778827   1668597\n20        eil76_n375_uncorr-similar-weights_05     18753     22032\n21      kroA100_n495_uncorr-similar-weights_05     39271     43712\n22        ch130_n645_uncorr-similar-weights_05     50695     60864\n23         u159_n790_uncorr-similar-weights_05     58090     60377\n24        a280_n1395_uncorr-similar-weights_05    107696    114087\n25        u574_n2865_uncorr-similar-weights_05    248584    248402\n26        u724_n3615_uncorr-similar-weights_05    309636    303025\n27     dsj1000_n4995_uncorr-similar-weights_05    332883    339136\n28      rl1304_n6515_uncorr-similar-weights_05    585600    578064\n29      fl1577_n7880_uncorr-similar-weights_05    636425    584764\n30      d2103_n10510_uncorr-similar-weights_05    842520    849770\n31    pcb3038_n15185_uncorr-similar-weights_05   1193738   1159828\n32    fnl4461_n22300_uncorr-similar-weights_05   1628414   1588086\n33    pla7397_n36980_uncorr-similar-weights_05   3713314   3798791\n34    rl11849_n59240_uncorr-similar-weights_05   4710135   4668813\n35   usa13509_n67540_uncorr-similar-weights_05   8115168   7930181\n36   brd14051_n70250_uncorr-similar-weights_05   6654162   6667470\n37     d15112_n75555_uncorr-similar-weights_05   7606856   7561526\n38     d18512_n92555_uncorr-similar-weights_05   7579996   7324264\n39  pla33810_n169045_uncorr-similar-weights_05  15704051  14421765\n40                        eil76_n750_uncorr_10     87577     88099\n41                      kroA100_n990_uncorr_10    155585    155878\n42                       ch130_n1290_uncorr_10    197555    206561\n43                        u159_n1580_uncorr_10    242201    249911\n44                        a280_n2790_uncorr_10    421713    427056\n45                        u574_n5730_uncorr_10    953997    952984\n46                        u724_n7230_uncorr_10   1191819   1181819\n47                     dsj1000_n9990_uncorr_10   1468858   1464474\n48                     rl1304_n13030_uncorr_10   2198943   2165629\n49                     fl1577_n15760_uncorr_10   2505291   2382050\n50                      d2103_n21020_uncorr_10   3373781   3331873\n51                    pcb3038_n30370_uncorr_10   4612956   4514051\n52                    fnl4461_n44600_uncorr_10   6545335   6463969\n53                    pla7397_n73960_uncorr_10  13197756  13808867\n54                   rl11849_n118480_uncorr_10  18504773  18203774\n55                  usa13509_n135080_uncorr_10  26436928  26251061\n56                  brd14051_n140500_uncorr_10  23908555  23797888\n57                    d15112_n151110_uncorr_10  27183354  27160800\n58                    d18512_n185110_uncorr_10  27823470  27269855\n59                  pla33810_n338090_uncorr_10  58106820  55631820",
      "text/html": "<div>\n<style scoped>\n    .dataframe tbody tr th:only-of-type {\n        vertical-align: middle;\n    }\n\n    .dataframe tbody tr th {\n        vertical-align: top;\n    }\n\n    .dataframe thead th {\n        text-align: right;\n    }\n</style>\n<table border=\"1\" class=\"dataframe\">\n  <thead>\n    <tr style=\"text-align: right;\">\n      <th></th>\n      <th>instance</th>\n      <th>CS2SA*</th>\n      <th>CS2SA-R</th>\n    </tr>\n  </thead>\n  <tbody>\n    <tr>\n      <th>0</th>\n      <td>eil76_n75_bounded-strongly-corr_01</td>\n      <td>3423</td>\n      <td>3842</td>\n    </tr>\n    <tr>\n      <th>1</th>\n      <td>kroA100_n99_bounded-strongly-corr_01</td>\n      <td>4420</td>\n      <td>4594</td>\n    </tr>\n    <tr>\n      <th>2</th>\n      <td>ch130_n129_bounded-strongly-corr_01</td>\n      <td>8982</td>\n      <td>9239</td>\n    </tr>\n    <tr>\n      <th>3</th>\n      <td>u159_n158_bounded-strongly-corr_01</td>\n      <td>8459</td>\n      <td>8560</td>\n    </tr>\n    <tr>\n      <th>4</th>\n      <td>a280_n279_bounded-strongly-corr_01</td>\n      <td>17726</td>\n      <td>18044</td>\n    </tr>\n    <tr>\n      <th>5</th>\n      <td>u574_n573_bounded-strongly-corr_01</td>\n      <td>26173</td>\n      <td>25383</td>\n    </tr>\n    <tr>\n      <th>6</th>\n      <td>u724_n723_bounded-strongly-corr_01</td>\n      <td>49713</td>\n      <td>47759</td>\n    </tr>\n    <tr>\n      <th>7</th>\n      <td>dsj1000_n999_bounded-strongly-corr_01</td>\n      <td>144219</td>\n      <td>144219</td>\n    </tr>\n    <tr>\n      <th>8</th>\n      <td>rl1304_n1303_bounded-strongly-corr_01</td>\n      <td>75699</td>\n      <td>73557</td>\n    </tr>\n    <tr>\n      <th>9</th>\n      <td>fl1577_n1576_bounded-strongly-corr_01</td>\n      <td>88006</td>\n      <td>84590</td>\n    </tr>\n    <tr>\n      <th>10</th>\n      <td>d2103_n2102_bounded-strongly-corr_01</td>\n      <td>118845</td>\n      <td>117960</td>\n    </tr>\n    <tr>\n      <th>11</th>\n      <td>pcb3038_n3037_bounded-strongly-corr_01</td>\n      <td>145338</td>\n      <td>145955</td>\n    </tr>\n    <tr>\n      <th>12</th>\n      <td>fnl4461_n4460_bounded-strongly-corr_01</td>\n      <td>240240</td>\n      <td>240726</td>\n    </tr>\n    <tr>\n      <th>13</th>\n      <td>pla7397_n7396_bounded-strongly-corr_01</td>\n      <td>315154</td>\n      <td>325852</td>\n    </tr>\n    <tr>\n      <th>14</th>\n      <td>rl11849_n11848_bounded-strongly-corr_01</td>\n      <td>657842</td>\n      <td>643738</td>\n    </tr>\n    <tr>\n      <th>15</th>\n      <td>usa13509_n13508_bounded-strongly-corr_01</td>\n      <td>682268</td>\n      <td>700243</td>\n    </tr>\n    <tr>\n      <th>16</th>\n      <td>brd14051_n14050_bounded-strongly-corr_01</td>\n      <td>802424</td>\n      <td>799957</td>\n    </tr>\n    <tr>\n      <th>17</th>\n      <td>d15112_n15111_bounded-strongly-corr_01</td>\n      <td>870301</td>\n      <td>871284</td>\n    </tr>\n    <tr>\n      <th>18</th>\n      <td>d18512_n18511_bounded-strongly-corr_01</td>\n      <td>964757</td>\n      <td>971153</td>\n    </tr>\n    <tr>\n      <th>19</th>\n      <td>pla33810_n33809_bounded-strongly-corr_01</td>\n      <td>1778827</td>\n      <td>1668597</td>\n    </tr>\n    <tr>\n      <th>20</th>\n      <td>eil76_n375_uncorr-similar-weights_05</td>\n      <td>18753</td>\n      <td>22032</td>\n    </tr>\n    <tr>\n      <th>21</th>\n      <td>kroA100_n495_uncorr-similar-weights_05</td>\n      <td>39271</td>\n      <td>43712</td>\n    </tr>\n    <tr>\n      <th>22</th>\n      <td>ch130_n645_uncorr-similar-weights_05</td>\n      <td>50695</td>\n      <td>60864</td>\n    </tr>\n    <tr>\n      <th>23</th>\n      <td>u159_n790_uncorr-similar-weights_05</td>\n      <td>58090</td>\n      <td>60377</td>\n    </tr>\n    <tr>\n      <th>24</th>\n      <td>a280_n1395_uncorr-similar-weights_05</td>\n      <td>107696</td>\n      <td>114087</td>\n    </tr>\n    <tr>\n      <th>25</th>\n      <td>u574_n2865_uncorr-similar-weights_05</td>\n      <td>248584</td>\n      <td>248402</td>\n    </tr>\n    <tr>\n      <th>26</th>\n      <td>u724_n3615_uncorr-similar-weights_05</td>\n      <td>309636</td>\n      <td>303025</td>\n    </tr>\n    <tr>\n      <th>27</th>\n      <td>dsj1000_n4995_uncorr-similar-weights_05</td>\n      <td>332883</td>\n      <td>339136</td>\n    </tr>\n    <tr>\n      <th>28</th>\n      <td>rl1304_n6515_uncorr-similar-weights_05</td>\n      <td>585600</td>\n      <td>578064</td>\n    </tr>\n    <tr>\n      <th>29</th>\n      <td>fl1577_n7880_uncorr-similar-weights_05</td>\n      <td>636425</td>\n      <td>584764</td>\n    </tr>\n    <tr>\n      <th>30</th>\n      <td>d2103_n10510_uncorr-similar-weights_05</td>\n      <td>842520</td>\n      <td>849770</td>\n    </tr>\n    <tr>\n      <th>31</th>\n      <td>pcb3038_n15185_uncorr-similar-weights_05</td>\n      <td>1193738</td>\n      <td>1159828</td>\n    </tr>\n    <tr>\n      <th>32</th>\n      <td>fnl4461_n22300_uncorr-similar-weights_05</td>\n      <td>1628414</td>\n      <td>1588086</td>\n    </tr>\n    <tr>\n      <th>33</th>\n      <td>pla7397_n36980_uncorr-similar-weights_05</td>\n      <td>3713314</td>\n      <td>3798791</td>\n    </tr>\n    <tr>\n      <th>34</th>\n      <td>rl11849_n59240_uncorr-similar-weights_05</td>\n      <td>4710135</td>\n      <td>4668813</td>\n    </tr>\n    <tr>\n      <th>35</th>\n      <td>usa13509_n67540_uncorr-similar-weights_05</td>\n      <td>8115168</td>\n      <td>7930181</td>\n    </tr>\n    <tr>\n      <th>36</th>\n      <td>brd14051_n70250_uncorr-similar-weights_05</td>\n      <td>6654162</td>\n      <td>6667470</td>\n    </tr>\n    <tr>\n      <th>37</th>\n      <td>d15112_n75555_uncorr-similar-weights_05</td>\n      <td>7606856</td>\n      <td>7561526</td>\n    </tr>\n    <tr>\n      <th>38</th>\n      <td>d18512_n92555_uncorr-similar-weights_05</td>\n      <td>7579996</td>\n      <td>7324264</td>\n    </tr>\n    <tr>\n      <th>39</th>\n      <td>pla33810_n169045_uncorr-similar-weights_05</td>\n      <td>15704051</td>\n      <td>14421765</td>\n    </tr>\n    <tr>\n      <th>40</th>\n      <td>eil76_n750_uncorr_10</td>\n      <td>87577</td>\n      <td>88099</td>\n    </tr>\n    <tr>\n      <th>41</th>\n      <td>kroA100_n990_uncorr_10</td>\n      <td>155585</td>\n      <td>155878</td>\n    </tr>\n    <tr>\n      <th>42</th>\n      <td>ch130_n1290_uncorr_10</td>\n      <td>197555</td>\n      <td>206561</td>\n    </tr>\n    <tr>\n      <th>43</th>\n      <td>u159_n1580_uncorr_10</td>\n      <td>242201</td>\n      <td>249911</td>\n    </tr>\n    <tr>\n      <th>44</th>\n      <td>a280_n2790_uncorr_10</td>\n      <td>421713</td>\n      <td>427056</td>\n    </tr>\n    <tr>\n      <th>45</th>\n      <td>u574_n5730_uncorr_10</td>\n      <td>953997</td>\n      <td>952984</td>\n    </tr>\n    <tr>\n      <th>46</th>\n      <td>u724_n7230_uncorr_10</td>\n      <td>1191819</td>\n      <td>1181819</td>\n    </tr>\n    <tr>\n      <th>47</th>\n      <td>dsj1000_n9990_uncorr_10</td>\n      <td>1468858</td>\n      <td>1464474</td>\n    </tr>\n    <tr>\n      <th>48</th>\n      <td>rl1304_n13030_uncorr_10</td>\n      <td>2198943</td>\n      <td>2165629</td>\n    </tr>\n    <tr>\n      <th>49</th>\n      <td>fl1577_n15760_uncorr_10</td>\n      <td>2505291</td>\n      <td>2382050</td>\n    </tr>\n    <tr>\n      <th>50</th>\n      <td>d2103_n21020_uncorr_10</td>\n      <td>3373781</td>\n      <td>3331873</td>\n    </tr>\n    <tr>\n      <th>51</th>\n      <td>pcb3038_n30370_uncorr_10</td>\n      <td>4612956</td>\n      <td>4514051</td>\n    </tr>\n    <tr>\n      <th>52</th>\n      <td>fnl4461_n44600_uncorr_10</td>\n      <td>6545335</td>\n      <td>6463969</td>\n    </tr>\n    <tr>\n      <th>53</th>\n      <td>pla7397_n73960_uncorr_10</td>\n      <td>13197756</td>\n      <td>13808867</td>\n    </tr>\n    <tr>\n      <th>54</th>\n      <td>rl11849_n118480_uncorr_10</td>\n      <td>18504773</td>\n      <td>18203774</td>\n    </tr>\n    <tr>\n      <th>55</th>\n      <td>usa13509_n135080_uncorr_10</td>\n      <td>26436928</td>\n      <td>26251061</td>\n    </tr>\n    <tr>\n      <th>56</th>\n      <td>brd14051_n140500_uncorr_10</td>\n      <td>23908555</td>\n      <td>23797888</td>\n    </tr>\n    <tr>\n      <th>57</th>\n      <td>d15112_n151110_uncorr_10</td>\n      <td>27183354</td>\n      <td>27160800</td>\n    </tr>\n    <tr>\n      <th>58</th>\n      <td>d18512_n185110_uncorr_10</td>\n      <td>27823470</td>\n      <td>27269855</td>\n    </tr>\n    <tr>\n      <th>59</th>\n      <td>pla33810_n338090_uncorr_10</td>\n      <td>58106820</td>\n      <td>55631820</td>\n    </tr>\n  </tbody>\n</table>\n</div>"
     },
     "execution_count": 6,
     "metadata": {},
     "output_type": "execute_result"
    }
   ],
   "source": [
    "# Source: Efficient hybrid local search heuristics for solving the travelling thief problem\n",
    "# 10 runs of 10 minutes. Reports mean.\n",
    "bkr_cs2sa = pd.read_csv('bkr/cs2sa.csv')\n",
    "bkr_cs2sa"
   ],
   "metadata": {
    "collapsed": false,
    "ExecuteTime": {
     "end_time": "2024-03-12T13:41:02.277243487Z",
     "start_time": "2024-03-12T13:41:02.266270723Z"
    }
   }
  },
  {
   "cell_type": "code",
   "execution_count": 7,
   "outputs": [
    {
     "data": {
      "text/plain": "                                    instance      HLS\n0         a280_n279_bounded-strongly-corr_02    32157\n1      berlin52_n51_bounded-strongly-corr_02     5789\n2      bier127_n126_bounded-strongly-corr_01     5216\n3   brd14051_n14050_bounded-strongly-corr_02  1502300\n4        ch130_n129_bounded-strongly-corr_01     9262\n..                                       ...      ...\n85        u159_n158_bounded-strongly-corr_01     8634\n86        a280_n279_bounded-strongly-corr_01    18200\n87        u574_n573_bounded-strongly-corr_01    24029\n88        u724_n723_bounded-strongly-corr_01    49372\n89  brd14051_n14050_bounded-strongly-corr_01   875018\n\n[90 rows x 2 columns]",
      "text/html": "<div>\n<style scoped>\n    .dataframe tbody tr th:only-of-type {\n        vertical-align: middle;\n    }\n\n    .dataframe tbody tr th {\n        vertical-align: top;\n    }\n\n    .dataframe thead th {\n        text-align: right;\n    }\n</style>\n<table border=\"1\" class=\"dataframe\">\n  <thead>\n    <tr style=\"text-align: right;\">\n      <th></th>\n      <th>instance</th>\n      <th>HLS</th>\n    </tr>\n  </thead>\n  <tbody>\n    <tr>\n      <th>0</th>\n      <td>a280_n279_bounded-strongly-corr_02</td>\n      <td>32157</td>\n    </tr>\n    <tr>\n      <th>1</th>\n      <td>berlin52_n51_bounded-strongly-corr_02</td>\n      <td>5789</td>\n    </tr>\n    <tr>\n      <th>2</th>\n      <td>bier127_n126_bounded-strongly-corr_01</td>\n      <td>5216</td>\n    </tr>\n    <tr>\n      <th>3</th>\n      <td>brd14051_n14050_bounded-strongly-corr_02</td>\n      <td>1502300</td>\n    </tr>\n    <tr>\n      <th>4</th>\n      <td>ch130_n129_bounded-strongly-corr_01</td>\n      <td>9262</td>\n    </tr>\n    <tr>\n      <th>...</th>\n      <td>...</td>\n      <td>...</td>\n    </tr>\n    <tr>\n      <th>85</th>\n      <td>u159_n158_bounded-strongly-corr_01</td>\n      <td>8634</td>\n    </tr>\n    <tr>\n      <th>86</th>\n      <td>a280_n279_bounded-strongly-corr_01</td>\n      <td>18200</td>\n    </tr>\n    <tr>\n      <th>87</th>\n      <td>u574_n573_bounded-strongly-corr_01</td>\n      <td>24029</td>\n    </tr>\n    <tr>\n      <th>88</th>\n      <td>u724_n723_bounded-strongly-corr_01</td>\n      <td>49372</td>\n    </tr>\n    <tr>\n      <th>89</th>\n      <td>brd14051_n14050_bounded-strongly-corr_01</td>\n      <td>875018</td>\n    </tr>\n  </tbody>\n</table>\n<p>90 rows × 2 columns</p>\n</div>"
     },
     "execution_count": 7,
     "metadata": {},
     "output_type": "execute_result"
    }
   ],
   "source": [
    "# Source: Efficient hybrid local search heuristics for solving the travelling thief problem\n",
    "# 10 runs of 10 minutes. Reports mean.\n",
    "# berlin52_n255_uncorr-similar-weights_01 no artigo aparenta ser o _02. No csv foi modificado\n",
    "bkr_hls = pd.read_csv('bkr/hybrid_local_search_heuristics.csv')\n",
    "bkr_hls"
   ],
   "metadata": {
    "collapsed": false,
    "ExecuteTime": {
     "end_time": "2024-03-12T13:41:02.326978232Z",
     "start_time": "2024-03-12T13:41:02.277795145Z"
    }
   }
  },
  {
   "cell_type": "code",
   "execution_count": 8,
   "outputs": [
    {
     "name": "stdout",
     "output_type": "stream",
     "text": [
      "eil76_n750_uncorr_10\n",
      "kroA100_n990_uncorr_10\n",
      "ch130_n1290_uncorr_10\n",
      "u159_n1580_uncorr_10\n",
      "a280_n2790_uncorr_10\n",
      "u574_n5730_uncorr_10\n",
      "u724_n7230_uncorr_10\n",
      "dsj1000_n9990_uncorr_10\n",
      "rl1304_n13030_uncorr_10\n",
      "fl1577_n15760_uncorr_10\n",
      "d2103_n21020_uncorr_10\n",
      "pcb3038_n30370_uncorr_10\n",
      "fnl4461_n44600_uncorr_10\n",
      "pla7397_n73960_uncorr_10\n",
      "rl11849_n118480_uncorr_10\n",
      "usa13509_n135080_uncorr_10\n",
      "brd14051_n140500_uncorr_10\n",
      "d15112_n151110_uncorr_10\n",
      "d18512_n185110_uncorr_10\n",
      "pla33810_n338090_uncorr_10\n"
     ]
    }
   ],
   "source": [
    "def cat_a(instance):\n",
    "    cities = int(''.join([c for c in instance if c.isnumeric()]))\n",
    "    items = cities - 1\n",
    "    print(f'{instance}_n{items}_bounded-strongly-corr_01')\n",
    "\n",
    "def cat_b(instance):\n",
    "    cities = int(''.join([c for c in instance if c.isnumeric()]))\n",
    "    items = cities - 1\n",
    "    print(f'{instance}_n{5 * items}_uncorr-similar-weights_05')\n",
    "\n",
    "def cat_c(instance):\n",
    "    cities = int(''.join([c for c in instance if c.isnumeric()]))\n",
    "    items = cities - 1\n",
    "    print(f'{instance}_n{10 * items}_uncorr_10')\n",
    "\n",
    "def cat_r(instance):\n",
    "    cities = int(''.join([c for c in instance if c.isnumeric()]))\n",
    "    items = cities - 1\n",
    "    print(f'{instance}_n{10 * items}_bounded-strongly-corr_10')\n",
    "\n",
    "for instance in ['eil76',\n",
    "                 'kroA100',\n",
    "                 'ch130',\n",
    "                 'u159',\n",
    "                 'a280',\n",
    "                 'u574',\n",
    "                 'u724',\n",
    "                 'dsj1000',\n",
    "                 'rl1304',\n",
    "                 'fl1577',\n",
    "                 'd2103',\n",
    "                 'pcb3038',\n",
    "                 'fnl4461',\n",
    "                 'pla7397',\n",
    "                 'rl11849',\n",
    "                 'usa13509',\n",
    "                 'brd14051',\n",
    "                 'd15112',\n",
    "                 'd18512',\n",
    "                 'pla33810',]:\n",
    "    cat_c(instance)"
   ],
   "metadata": {
    "collapsed": false,
    "ExecuteTime": {
     "end_time": "2024-03-12T13:41:02.327204973Z",
     "start_time": "2024-03-12T13:41:02.320173649Z"
    }
   }
  },
  {
   "cell_type": "code",
   "execution_count": 9,
   "outputs": [
    {
     "data": {
      "text/plain": "                                   instance      JNB      J2B\n0                       eil51_n50_uncorr_06     4744     4604\n1                    berlin52_n51_uncorr_06     5342     5342\n2                       eil76_n75_uncorr_06     8286     8519\n3                     kroA100_n99_uncorr_06    10468    10509\n4                      pr124_n123_uncorr_06    15378    15360\n..                                      ...      ...      ...\n175   lin318_n3170_bounded-strongly-corr_10   284813    -4887\n176     u574_n5730_bounded-strongly-corr_10  1275014  1271965\n177     u724_n7230_bounded-strongly-corr_10  1360216  1323516\n178  dsj1000_n9990_bounded-strongly-corr_10  1954051  1951910\n179  rl1304_n13030_bounded-strongly-corr_10  2352288  2263461\n\n[180 rows x 3 columns]",
      "text/html": "<div>\n<style scoped>\n    .dataframe tbody tr th:only-of-type {\n        vertical-align: middle;\n    }\n\n    .dataframe tbody tr th {\n        vertical-align: top;\n    }\n\n    .dataframe thead th {\n        text-align: right;\n    }\n</style>\n<table border=\"1\" class=\"dataframe\">\n  <thead>\n    <tr style=\"text-align: right;\">\n      <th></th>\n      <th>instance</th>\n      <th>JNB</th>\n      <th>J2B</th>\n    </tr>\n  </thead>\n  <tbody>\n    <tr>\n      <th>0</th>\n      <td>eil51_n50_uncorr_06</td>\n      <td>4744</td>\n      <td>4604</td>\n    </tr>\n    <tr>\n      <th>1</th>\n      <td>berlin52_n51_uncorr_06</td>\n      <td>5342</td>\n      <td>5342</td>\n    </tr>\n    <tr>\n      <th>2</th>\n      <td>eil76_n75_uncorr_06</td>\n      <td>8286</td>\n      <td>8519</td>\n    </tr>\n    <tr>\n      <th>3</th>\n      <td>kroA100_n99_uncorr_06</td>\n      <td>10468</td>\n      <td>10509</td>\n    </tr>\n    <tr>\n      <th>4</th>\n      <td>pr124_n123_uncorr_06</td>\n      <td>15378</td>\n      <td>15360</td>\n    </tr>\n    <tr>\n      <th>...</th>\n      <td>...</td>\n      <td>...</td>\n      <td>...</td>\n    </tr>\n    <tr>\n      <th>175</th>\n      <td>lin318_n3170_bounded-strongly-corr_10</td>\n      <td>284813</td>\n      <td>-4887</td>\n    </tr>\n    <tr>\n      <th>176</th>\n      <td>u574_n5730_bounded-strongly-corr_10</td>\n      <td>1275014</td>\n      <td>1271965</td>\n    </tr>\n    <tr>\n      <th>177</th>\n      <td>u724_n7230_bounded-strongly-corr_10</td>\n      <td>1360216</td>\n      <td>1323516</td>\n    </tr>\n    <tr>\n      <th>178</th>\n      <td>dsj1000_n9990_bounded-strongly-corr_10</td>\n      <td>1954051</td>\n      <td>1951910</td>\n    </tr>\n    <tr>\n      <th>179</th>\n      <td>rl1304_n13030_bounded-strongly-corr_10</td>\n      <td>2352288</td>\n      <td>2263461</td>\n    </tr>\n  </tbody>\n</table>\n<p>180 rows × 3 columns</p>\n</div>"
     },
     "execution_count": 9,
     "metadata": {},
     "output_type": "execute_result"
    }
   ],
   "source": [
    "# Source: A local search based approach for solving the Travelling Thief Problem: The pros and cons\n",
    "# ?\n",
    "bkr_jb = pd.read_csv('bkr/elyafraniLocalSearchBased2017.csv')\n",
    "bkr_jb"
   ],
   "metadata": {
    "collapsed": false,
    "ExecuteTime": {
     "end_time": "2024-03-12T13:41:02.327549010Z",
     "start_time": "2024-03-12T13:41:02.320270133Z"
    }
   }
  },
  {
   "cell_type": "code",
   "execution_count": 10,
   "outputs": [
    {
     "data": {
      "text/plain": "                                instance   MEA2P\n0     a280_n279_bounded-strongly-corr_01   19410\n1     a280_n279_bounded-strongly-corr_02   32562\n2     a280_n279_bounded-strongly-corr_03   41270\n3     a280_n279_bounded-strongly-corr_04   49850\n4     a280_n279_bounded-strongly-corr_05   57413\n..                                   ...     ...\n505  pr76_n750_uncorr-similar-weights_06   80610\n506  pr76_n750_uncorr-similar-weights_07   92090\n507  pr76_n750_uncorr-similar-weights_08  102098\n508  pr76_n750_uncorr-similar-weights_09  110536\n509  pr76_n750_uncorr-similar-weights_10  122718\n\n[510 rows x 2 columns]",
      "text/html": "<div>\n<style scoped>\n    .dataframe tbody tr th:only-of-type {\n        vertical-align: middle;\n    }\n\n    .dataframe tbody tr th {\n        vertical-align: top;\n    }\n\n    .dataframe thead th {\n        text-align: right;\n    }\n</style>\n<table border=\"1\" class=\"dataframe\">\n  <thead>\n    <tr style=\"text-align: right;\">\n      <th></th>\n      <th>instance</th>\n      <th>MEA2P</th>\n    </tr>\n  </thead>\n  <tbody>\n    <tr>\n      <th>0</th>\n      <td>a280_n279_bounded-strongly-corr_01</td>\n      <td>19410</td>\n    </tr>\n    <tr>\n      <th>1</th>\n      <td>a280_n279_bounded-strongly-corr_02</td>\n      <td>32562</td>\n    </tr>\n    <tr>\n      <th>2</th>\n      <td>a280_n279_bounded-strongly-corr_03</td>\n      <td>41270</td>\n    </tr>\n    <tr>\n      <th>3</th>\n      <td>a280_n279_bounded-strongly-corr_04</td>\n      <td>49850</td>\n    </tr>\n    <tr>\n      <th>4</th>\n      <td>a280_n279_bounded-strongly-corr_05</td>\n      <td>57413</td>\n    </tr>\n    <tr>\n      <th>...</th>\n      <td>...</td>\n      <td>...</td>\n    </tr>\n    <tr>\n      <th>505</th>\n      <td>pr76_n750_uncorr-similar-weights_06</td>\n      <td>80610</td>\n    </tr>\n    <tr>\n      <th>506</th>\n      <td>pr76_n750_uncorr-similar-weights_07</td>\n      <td>92090</td>\n    </tr>\n    <tr>\n      <th>507</th>\n      <td>pr76_n750_uncorr-similar-weights_08</td>\n      <td>102098</td>\n    </tr>\n    <tr>\n      <th>508</th>\n      <td>pr76_n750_uncorr-similar-weights_09</td>\n      <td>110536</td>\n    </tr>\n    <tr>\n      <th>509</th>\n      <td>pr76_n750_uncorr-similar-weights_10</td>\n      <td>122718</td>\n    </tr>\n  </tbody>\n</table>\n<p>510 rows × 2 columns</p>\n</div>"
     },
     "execution_count": 10,
     "metadata": {},
     "output_type": "execute_result"
    }
   ],
   "source": [
    "# Source: A local search based approach for solving the Travelling Thief Problem: The pros and cons\n",
    "# ?\n",
    "bkr_mea2p = pd.read_csv('bkr/wuijtsInvestigationTravelingThief2019a.csv')\n",
    "bkr_mea2p"
   ],
   "metadata": {
    "collapsed": false,
    "ExecuteTime": {
     "end_time": "2024-03-12T13:41:02.339623233Z",
     "start_time": "2024-03-12T13:41:02.320336588Z"
    }
   }
  },
  {
   "cell_type": "code",
   "execution_count": 11,
   "outputs": [
    {
     "data": {
      "text/plain": "                                      instance      COCO\n0           eil76_n75_bounded-strongly-corr_01      4109\n1         kroA100_n99_bounded-strongly-corr_01      4827\n2          ch130_n129_bounded-strongly-corr_01      9564\n3           u159_n158_bounded-strongly-corr_01      8820\n4           a280_n279_bounded-strongly-corr_01     18636\n5           u574_n573_bounded-strongly-corr_01     27367\n6           u724_n723_bounded-strongly-corr_01     51124\n7        dsj1000_n999_bounded-strongly-corr_01    144219\n8        rl1304_n1303_bounded-strongly-corr_01     81769\n9        fl1577_n1576_bounded-strongly-corr_01     93030\n10        d2103_n2102_bounded-strongly-corr_01    121977\n11      pcb3038_n3037_bounded-strongly-corr_01    161456\n12      fnl4461_n4460_bounded-strongly-corr_01    264332\n13      pla7397_n7396_bounded-strongly-corr_01    399349\n14     rl11849_n11848_bounded-strongly-corr_01    714396\n15    usa13509_n13508_bounded-strongly-corr_01    813324\n16    brd14051_n14050_bounded-strongly-corr_01    881904\n17      d15112_n15111_bounded-strongly-corr_01    967701\n18      d18512_n18511_bounded-strongly-corr_01   1079883\n19    pla33810_n33809_bounded-strongly-corr_01   1917177\n20        eil76_n375_uncorr-similar-weights_05     22240\n21      kroA100_n495_uncorr-similar-weights_05     45139\n22        ch130_n645_uncorr-similar-weights_05     61702\n23         u159_n790_uncorr-similar-weights_05     60897\n24        a280_n1395_uncorr-similar-weights_05    116457\n25        u574_n2865_uncorr-similar-weights_05    260062\n26        u724_n3615_uncorr-similar-weights_05    322133\n27     dsj1000_n4995_uncorr-similar-weights_05    370435\n28      rl1304_n6515_uncorr-similar-weights_05    598610\n29      fl1577_n7880_uncorr-similar-weights_05    635696\n30      d2103_n10510_uncorr-similar-weights_05    925808\n31    pcb3038_n15185_uncorr-similar-weights_05   1204897\n32    fnl4461_n22300_uncorr-similar-weights_05   1646520\n33    pla7397_n36980_uncorr-similar-weights_05   4470928\n34    rl11849_n59240_uncorr-similar-weights_05   4780661\n35   usa13509_n67540_uncorr-similar-weights_05   8254572\n36   brd14051_n70250_uncorr-similar-weights_05   6816674\n37     d15112_n75555_uncorr-similar-weights_05   7714270\n38     d18512_n92555_uncorr-similar-weights_05   7467890\n39  pla33810_n169045_uncorr-similar-weights_05  16172664\n40                        eil76_n750_uncorr_10     87249\n41                      kroA100_n990_uncorr_10    157712\n42                       ch130_n1290_uncorr_10    206851\n43                        u159_n1580_uncorr_10    248627\n44                        a280_n2790_uncorr_10    429138\n45                        u574_n5730_uncorr_10    969666\n46                        u724_n7230_uncorr_10   1204366\n47                     dsj1000_n9990_uncorr_10   1495584\n48                     rl1304_n13030_uncorr_10   2212260\n49                     fl1577_n15760_uncorr_10   2491120\n50                      d2103_n21020_uncorr_10   3493856\n51                    pcb3038_n30370_uncorr_10   4596155\n52                    fnl4461_n44600_uncorr_10   6569715\n53                    pla7397_n73960_uncorr_10  14496916\n54                   rl11849_n118480_uncorr_10  18512214\n55                  usa13509_n135080_uncorr_10  26572209\n56                  brd14051_n140500_uncorr_10  24188367\n57                    d15112_n151110_uncorr_10  27437349\n58                    d18512_n185110_uncorr_10  27690630\n59                  pla33810_n338090_uncorr_10  58744246",
      "text/html": "<div>\n<style scoped>\n    .dataframe tbody tr th:only-of-type {\n        vertical-align: middle;\n    }\n\n    .dataframe tbody tr th {\n        vertical-align: top;\n    }\n\n    .dataframe thead th {\n        text-align: right;\n    }\n</style>\n<table border=\"1\" class=\"dataframe\">\n  <thead>\n    <tr style=\"text-align: right;\">\n      <th></th>\n      <th>instance</th>\n      <th>COCO</th>\n    </tr>\n  </thead>\n  <tbody>\n    <tr>\n      <th>0</th>\n      <td>eil76_n75_bounded-strongly-corr_01</td>\n      <td>4109</td>\n    </tr>\n    <tr>\n      <th>1</th>\n      <td>kroA100_n99_bounded-strongly-corr_01</td>\n      <td>4827</td>\n    </tr>\n    <tr>\n      <th>2</th>\n      <td>ch130_n129_bounded-strongly-corr_01</td>\n      <td>9564</td>\n    </tr>\n    <tr>\n      <th>3</th>\n      <td>u159_n158_bounded-strongly-corr_01</td>\n      <td>8820</td>\n    </tr>\n    <tr>\n      <th>4</th>\n      <td>a280_n279_bounded-strongly-corr_01</td>\n      <td>18636</td>\n    </tr>\n    <tr>\n      <th>5</th>\n      <td>u574_n573_bounded-strongly-corr_01</td>\n      <td>27367</td>\n    </tr>\n    <tr>\n      <th>6</th>\n      <td>u724_n723_bounded-strongly-corr_01</td>\n      <td>51124</td>\n    </tr>\n    <tr>\n      <th>7</th>\n      <td>dsj1000_n999_bounded-strongly-corr_01</td>\n      <td>144219</td>\n    </tr>\n    <tr>\n      <th>8</th>\n      <td>rl1304_n1303_bounded-strongly-corr_01</td>\n      <td>81769</td>\n    </tr>\n    <tr>\n      <th>9</th>\n      <td>fl1577_n1576_bounded-strongly-corr_01</td>\n      <td>93030</td>\n    </tr>\n    <tr>\n      <th>10</th>\n      <td>d2103_n2102_bounded-strongly-corr_01</td>\n      <td>121977</td>\n    </tr>\n    <tr>\n      <th>11</th>\n      <td>pcb3038_n3037_bounded-strongly-corr_01</td>\n      <td>161456</td>\n    </tr>\n    <tr>\n      <th>12</th>\n      <td>fnl4461_n4460_bounded-strongly-corr_01</td>\n      <td>264332</td>\n    </tr>\n    <tr>\n      <th>13</th>\n      <td>pla7397_n7396_bounded-strongly-corr_01</td>\n      <td>399349</td>\n    </tr>\n    <tr>\n      <th>14</th>\n      <td>rl11849_n11848_bounded-strongly-corr_01</td>\n      <td>714396</td>\n    </tr>\n    <tr>\n      <th>15</th>\n      <td>usa13509_n13508_bounded-strongly-corr_01</td>\n      <td>813324</td>\n    </tr>\n    <tr>\n      <th>16</th>\n      <td>brd14051_n14050_bounded-strongly-corr_01</td>\n      <td>881904</td>\n    </tr>\n    <tr>\n      <th>17</th>\n      <td>d15112_n15111_bounded-strongly-corr_01</td>\n      <td>967701</td>\n    </tr>\n    <tr>\n      <th>18</th>\n      <td>d18512_n18511_bounded-strongly-corr_01</td>\n      <td>1079883</td>\n    </tr>\n    <tr>\n      <th>19</th>\n      <td>pla33810_n33809_bounded-strongly-corr_01</td>\n      <td>1917177</td>\n    </tr>\n    <tr>\n      <th>20</th>\n      <td>eil76_n375_uncorr-similar-weights_05</td>\n      <td>22240</td>\n    </tr>\n    <tr>\n      <th>21</th>\n      <td>kroA100_n495_uncorr-similar-weights_05</td>\n      <td>45139</td>\n    </tr>\n    <tr>\n      <th>22</th>\n      <td>ch130_n645_uncorr-similar-weights_05</td>\n      <td>61702</td>\n    </tr>\n    <tr>\n      <th>23</th>\n      <td>u159_n790_uncorr-similar-weights_05</td>\n      <td>60897</td>\n    </tr>\n    <tr>\n      <th>24</th>\n      <td>a280_n1395_uncorr-similar-weights_05</td>\n      <td>116457</td>\n    </tr>\n    <tr>\n      <th>25</th>\n      <td>u574_n2865_uncorr-similar-weights_05</td>\n      <td>260062</td>\n    </tr>\n    <tr>\n      <th>26</th>\n      <td>u724_n3615_uncorr-similar-weights_05</td>\n      <td>322133</td>\n    </tr>\n    <tr>\n      <th>27</th>\n      <td>dsj1000_n4995_uncorr-similar-weights_05</td>\n      <td>370435</td>\n    </tr>\n    <tr>\n      <th>28</th>\n      <td>rl1304_n6515_uncorr-similar-weights_05</td>\n      <td>598610</td>\n    </tr>\n    <tr>\n      <th>29</th>\n      <td>fl1577_n7880_uncorr-similar-weights_05</td>\n      <td>635696</td>\n    </tr>\n    <tr>\n      <th>30</th>\n      <td>d2103_n10510_uncorr-similar-weights_05</td>\n      <td>925808</td>\n    </tr>\n    <tr>\n      <th>31</th>\n      <td>pcb3038_n15185_uncorr-similar-weights_05</td>\n      <td>1204897</td>\n    </tr>\n    <tr>\n      <th>32</th>\n      <td>fnl4461_n22300_uncorr-similar-weights_05</td>\n      <td>1646520</td>\n    </tr>\n    <tr>\n      <th>33</th>\n      <td>pla7397_n36980_uncorr-similar-weights_05</td>\n      <td>4470928</td>\n    </tr>\n    <tr>\n      <th>34</th>\n      <td>rl11849_n59240_uncorr-similar-weights_05</td>\n      <td>4780661</td>\n    </tr>\n    <tr>\n      <th>35</th>\n      <td>usa13509_n67540_uncorr-similar-weights_05</td>\n      <td>8254572</td>\n    </tr>\n    <tr>\n      <th>36</th>\n      <td>brd14051_n70250_uncorr-similar-weights_05</td>\n      <td>6816674</td>\n    </tr>\n    <tr>\n      <th>37</th>\n      <td>d15112_n75555_uncorr-similar-weights_05</td>\n      <td>7714270</td>\n    </tr>\n    <tr>\n      <th>38</th>\n      <td>d18512_n92555_uncorr-similar-weights_05</td>\n      <td>7467890</td>\n    </tr>\n    <tr>\n      <th>39</th>\n      <td>pla33810_n169045_uncorr-similar-weights_05</td>\n      <td>16172664</td>\n    </tr>\n    <tr>\n      <th>40</th>\n      <td>eil76_n750_uncorr_10</td>\n      <td>87249</td>\n    </tr>\n    <tr>\n      <th>41</th>\n      <td>kroA100_n990_uncorr_10</td>\n      <td>157712</td>\n    </tr>\n    <tr>\n      <th>42</th>\n      <td>ch130_n1290_uncorr_10</td>\n      <td>206851</td>\n    </tr>\n    <tr>\n      <th>43</th>\n      <td>u159_n1580_uncorr_10</td>\n      <td>248627</td>\n    </tr>\n    <tr>\n      <th>44</th>\n      <td>a280_n2790_uncorr_10</td>\n      <td>429138</td>\n    </tr>\n    <tr>\n      <th>45</th>\n      <td>u574_n5730_uncorr_10</td>\n      <td>969666</td>\n    </tr>\n    <tr>\n      <th>46</th>\n      <td>u724_n7230_uncorr_10</td>\n      <td>1204366</td>\n    </tr>\n    <tr>\n      <th>47</th>\n      <td>dsj1000_n9990_uncorr_10</td>\n      <td>1495584</td>\n    </tr>\n    <tr>\n      <th>48</th>\n      <td>rl1304_n13030_uncorr_10</td>\n      <td>2212260</td>\n    </tr>\n    <tr>\n      <th>49</th>\n      <td>fl1577_n15760_uncorr_10</td>\n      <td>2491120</td>\n    </tr>\n    <tr>\n      <th>50</th>\n      <td>d2103_n21020_uncorr_10</td>\n      <td>3493856</td>\n    </tr>\n    <tr>\n      <th>51</th>\n      <td>pcb3038_n30370_uncorr_10</td>\n      <td>4596155</td>\n    </tr>\n    <tr>\n      <th>52</th>\n      <td>fnl4461_n44600_uncorr_10</td>\n      <td>6569715</td>\n    </tr>\n    <tr>\n      <th>53</th>\n      <td>pla7397_n73960_uncorr_10</td>\n      <td>14496916</td>\n    </tr>\n    <tr>\n      <th>54</th>\n      <td>rl11849_n118480_uncorr_10</td>\n      <td>18512214</td>\n    </tr>\n    <tr>\n      <th>55</th>\n      <td>usa13509_n135080_uncorr_10</td>\n      <td>26572209</td>\n    </tr>\n    <tr>\n      <th>56</th>\n      <td>brd14051_n140500_uncorr_10</td>\n      <td>24188367</td>\n    </tr>\n    <tr>\n      <th>57</th>\n      <td>d15112_n151110_uncorr_10</td>\n      <td>27437349</td>\n    </tr>\n    <tr>\n      <th>58</th>\n      <td>d18512_n185110_uncorr_10</td>\n      <td>27690630</td>\n    </tr>\n    <tr>\n      <th>59</th>\n      <td>pla33810_n338090_uncorr_10</td>\n      <td>58744246</td>\n    </tr>\n  </tbody>\n</table>\n</div>"
     },
     "execution_count": 11,
     "metadata": {},
     "output_type": "execute_result"
    }
   ],
   "source": [
    "# Source: A Cooperative Coordination Solver for Travelling Thief Problems\n",
    "# ?\n",
    "bkr_coco = pd.read_csv('bkr/namaziCooperativeCoordinationSolver2019.csv')\n",
    "bkr_coco"
   ],
   "metadata": {
    "collapsed": false,
    "ExecuteTime": {
     "end_time": "2024-03-12T13:41:02.396500293Z",
     "start_time": "2024-03-12T13:41:02.330602981Z"
    }
   }
  },
  {
   "cell_type": "code",
   "execution_count": 16,
   "outputs": [
    {
     "data": {
      "text/plain": "                                      instance     COCOP     COCOL\n0           eil76_n75_bounded-strongly-corr_01      4109      4109\n1         kroA100_n99_bounded-strongly-corr_01      4783      4746\n2          ch130_n129_bounded-strongly-corr_01      9564      9560\n3           u159_n158_bounded-strongly-corr_01      8763      8792\n4           a280_n279_bounded-strongly-corr_01     18556     18437\n5           u574_n573_bounded-strongly-corr_01     27383     27915\n6           u724_n723_bounded-strongly-corr_01     51109     51128\n7        dsj1000_n999_bounded-strongly-corr_01    144219    144219\n8        rl1304_n1303_bounded-strongly-corr_01     81764     81411\n9        fl1577_n1576_bounded-strongly-corr_01     93571     93585\n10        d2103_n2102_bounded-strongly-corr_01    121863    121777\n11      pcb3038_n3037_bounded-strongly-corr_01    161322    161540\n12      fnl4461_n4460_bounded-strongly-corr_01    264383    263047\n13      pla7397_n7396_bounded-strongly-corr_01    398131    396938\n14     rl11849_n11848_bounded-strongly-corr_01    714405    711001\n15    usa13509_n13508_bounded-strongly-corr_01    809100    807049\n16    brd14051_n14050_bounded-strongly-corr_01    879175    880860\n17      d15112_n15111_bounded-strongly-corr_01    962704    968380\n18      d18512_n18511_bounded-strongly-corr_01   1082018   1076736\n19    pla33810_n33809_bounded-strongly-corr_01   1912398   1913334\n20        eil76_n375_uncorr-similar-weights_05     22312     22443\n21      kroA100_n495_uncorr-similar-weights_05     45812     45812\n22        ch130_n645_uncorr-similar-weights_05     61703     61698\n23         u159_n790_uncorr-similar-weights_05     60718     60920\n24        a280_n1395_uncorr-similar-weights_05    116455    116446\n25        u574_n2865_uncorr-similar-weights_05    259990    260393\n26        u724_n3615_uncorr-similar-weights_05    321128    319219\n27     dsj1000_n4995_uncorr-similar-weights_05    369395    370866\n28      rl1304_n6515_uncorr-similar-weights_05    599321    598310\n29      fl1577_n7880_uncorr-similar-weights_05    627094    626674\n30      d2103_n10510_uncorr-similar-weights_05    923371    923098\n31    pcb3038_n15185_uncorr-similar-weights_05   1201762   1199959\n32    fnl4461_n22300_uncorr-similar-weights_05   1648718   1643725\n33    pla7397_n36980_uncorr-similar-weights_05   4475452   4445034\n34    rl11849_n59240_uncorr-similar-weights_05   4786319   4732950\n35   usa13509_n67540_uncorr-similar-weights_05   8226438   8142993\n36   brd14051_n70250_uncorr-similar-weights_05   6759473   6768365\n37     d15112_n75555_uncorr-similar-weights_05   7710754   7732018\n38     d18512_n92555_uncorr-similar-weights_05   7490813   7394360\n39  pla33810_n169045_uncorr-similar-weights_05  16230647  16034864\n40                        eil76_n750_uncorr_10     87806     87629\n41                      kroA100_n990_uncorr_10    158777    158279\n42                       ch130_n1290_uncorr_10    207159    207159\n43                        u159_n1580_uncorr_10    248508    248351\n44                        a280_n2790_uncorr_10    429138    429099\n45                        u574_n5730_uncorr_10    969705    968371\n46                        u724_n7230_uncorr_10   1203516   1206366\n47                     dsj1000_n9990_uncorr_10   1495041   1492045\n48                     rl1304_n13030_uncorr_10   2213935   2210598\n49                     fl1577_n15760_uncorr_10   2485371   2483177\n50                      d2103_n21020_uncorr_10   3496222   3482613\n51                    pcb3038_n30370_uncorr_10   4597719   4583180\n52                    fnl4461_n44600_uncorr_10   6572527   6568717\n53                    pla7397_n73960_uncorr_10  14520941  14382473\n54                   rl11849_n118480_uncorr_10  18355212  18415752\n55                  usa13509_n135080_uncorr_10  26375964  26537543\n56                  brd14051_n140500_uncorr_10  24196359  24073026\n57                    d15112_n151110_uncorr_10  27424573  27461281\n58                    d18512_n185110_uncorr_10  27833906  27524914\n59                  pla33810_n338090_uncorr_10  58689650  58418340",
      "text/html": "<div>\n<style scoped>\n    .dataframe tbody tr th:only-of-type {\n        vertical-align: middle;\n    }\n\n    .dataframe tbody tr th {\n        vertical-align: top;\n    }\n\n    .dataframe thead th {\n        text-align: right;\n    }\n</style>\n<table border=\"1\" class=\"dataframe\">\n  <thead>\n    <tr style=\"text-align: right;\">\n      <th></th>\n      <th>instance</th>\n      <th>COCOP</th>\n      <th>COCOL</th>\n    </tr>\n  </thead>\n  <tbody>\n    <tr>\n      <th>0</th>\n      <td>eil76_n75_bounded-strongly-corr_01</td>\n      <td>4109</td>\n      <td>4109</td>\n    </tr>\n    <tr>\n      <th>1</th>\n      <td>kroA100_n99_bounded-strongly-corr_01</td>\n      <td>4783</td>\n      <td>4746</td>\n    </tr>\n    <tr>\n      <th>2</th>\n      <td>ch130_n129_bounded-strongly-corr_01</td>\n      <td>9564</td>\n      <td>9560</td>\n    </tr>\n    <tr>\n      <th>3</th>\n      <td>u159_n158_bounded-strongly-corr_01</td>\n      <td>8763</td>\n      <td>8792</td>\n    </tr>\n    <tr>\n      <th>4</th>\n      <td>a280_n279_bounded-strongly-corr_01</td>\n      <td>18556</td>\n      <td>18437</td>\n    </tr>\n    <tr>\n      <th>5</th>\n      <td>u574_n573_bounded-strongly-corr_01</td>\n      <td>27383</td>\n      <td>27915</td>\n    </tr>\n    <tr>\n      <th>6</th>\n      <td>u724_n723_bounded-strongly-corr_01</td>\n      <td>51109</td>\n      <td>51128</td>\n    </tr>\n    <tr>\n      <th>7</th>\n      <td>dsj1000_n999_bounded-strongly-corr_01</td>\n      <td>144219</td>\n      <td>144219</td>\n    </tr>\n    <tr>\n      <th>8</th>\n      <td>rl1304_n1303_bounded-strongly-corr_01</td>\n      <td>81764</td>\n      <td>81411</td>\n    </tr>\n    <tr>\n      <th>9</th>\n      <td>fl1577_n1576_bounded-strongly-corr_01</td>\n      <td>93571</td>\n      <td>93585</td>\n    </tr>\n    <tr>\n      <th>10</th>\n      <td>d2103_n2102_bounded-strongly-corr_01</td>\n      <td>121863</td>\n      <td>121777</td>\n    </tr>\n    <tr>\n      <th>11</th>\n      <td>pcb3038_n3037_bounded-strongly-corr_01</td>\n      <td>161322</td>\n      <td>161540</td>\n    </tr>\n    <tr>\n      <th>12</th>\n      <td>fnl4461_n4460_bounded-strongly-corr_01</td>\n      <td>264383</td>\n      <td>263047</td>\n    </tr>\n    <tr>\n      <th>13</th>\n      <td>pla7397_n7396_bounded-strongly-corr_01</td>\n      <td>398131</td>\n      <td>396938</td>\n    </tr>\n    <tr>\n      <th>14</th>\n      <td>rl11849_n11848_bounded-strongly-corr_01</td>\n      <td>714405</td>\n      <td>711001</td>\n    </tr>\n    <tr>\n      <th>15</th>\n      <td>usa13509_n13508_bounded-strongly-corr_01</td>\n      <td>809100</td>\n      <td>807049</td>\n    </tr>\n    <tr>\n      <th>16</th>\n      <td>brd14051_n14050_bounded-strongly-corr_01</td>\n      <td>879175</td>\n      <td>880860</td>\n    </tr>\n    <tr>\n      <th>17</th>\n      <td>d15112_n15111_bounded-strongly-corr_01</td>\n      <td>962704</td>\n      <td>968380</td>\n    </tr>\n    <tr>\n      <th>18</th>\n      <td>d18512_n18511_bounded-strongly-corr_01</td>\n      <td>1082018</td>\n      <td>1076736</td>\n    </tr>\n    <tr>\n      <th>19</th>\n      <td>pla33810_n33809_bounded-strongly-corr_01</td>\n      <td>1912398</td>\n      <td>1913334</td>\n    </tr>\n    <tr>\n      <th>20</th>\n      <td>eil76_n375_uncorr-similar-weights_05</td>\n      <td>22312</td>\n      <td>22443</td>\n    </tr>\n    <tr>\n      <th>21</th>\n      <td>kroA100_n495_uncorr-similar-weights_05</td>\n      <td>45812</td>\n      <td>45812</td>\n    </tr>\n    <tr>\n      <th>22</th>\n      <td>ch130_n645_uncorr-similar-weights_05</td>\n      <td>61703</td>\n      <td>61698</td>\n    </tr>\n    <tr>\n      <th>23</th>\n      <td>u159_n790_uncorr-similar-weights_05</td>\n      <td>60718</td>\n      <td>60920</td>\n    </tr>\n    <tr>\n      <th>24</th>\n      <td>a280_n1395_uncorr-similar-weights_05</td>\n      <td>116455</td>\n      <td>116446</td>\n    </tr>\n    <tr>\n      <th>25</th>\n      <td>u574_n2865_uncorr-similar-weights_05</td>\n      <td>259990</td>\n      <td>260393</td>\n    </tr>\n    <tr>\n      <th>26</th>\n      <td>u724_n3615_uncorr-similar-weights_05</td>\n      <td>321128</td>\n      <td>319219</td>\n    </tr>\n    <tr>\n      <th>27</th>\n      <td>dsj1000_n4995_uncorr-similar-weights_05</td>\n      <td>369395</td>\n      <td>370866</td>\n    </tr>\n    <tr>\n      <th>28</th>\n      <td>rl1304_n6515_uncorr-similar-weights_05</td>\n      <td>599321</td>\n      <td>598310</td>\n    </tr>\n    <tr>\n      <th>29</th>\n      <td>fl1577_n7880_uncorr-similar-weights_05</td>\n      <td>627094</td>\n      <td>626674</td>\n    </tr>\n    <tr>\n      <th>30</th>\n      <td>d2103_n10510_uncorr-similar-weights_05</td>\n      <td>923371</td>\n      <td>923098</td>\n    </tr>\n    <tr>\n      <th>31</th>\n      <td>pcb3038_n15185_uncorr-similar-weights_05</td>\n      <td>1201762</td>\n      <td>1199959</td>\n    </tr>\n    <tr>\n      <th>32</th>\n      <td>fnl4461_n22300_uncorr-similar-weights_05</td>\n      <td>1648718</td>\n      <td>1643725</td>\n    </tr>\n    <tr>\n      <th>33</th>\n      <td>pla7397_n36980_uncorr-similar-weights_05</td>\n      <td>4475452</td>\n      <td>4445034</td>\n    </tr>\n    <tr>\n      <th>34</th>\n      <td>rl11849_n59240_uncorr-similar-weights_05</td>\n      <td>4786319</td>\n      <td>4732950</td>\n    </tr>\n    <tr>\n      <th>35</th>\n      <td>usa13509_n67540_uncorr-similar-weights_05</td>\n      <td>8226438</td>\n      <td>8142993</td>\n    </tr>\n    <tr>\n      <th>36</th>\n      <td>brd14051_n70250_uncorr-similar-weights_05</td>\n      <td>6759473</td>\n      <td>6768365</td>\n    </tr>\n    <tr>\n      <th>37</th>\n      <td>d15112_n75555_uncorr-similar-weights_05</td>\n      <td>7710754</td>\n      <td>7732018</td>\n    </tr>\n    <tr>\n      <th>38</th>\n      <td>d18512_n92555_uncorr-similar-weights_05</td>\n      <td>7490813</td>\n      <td>7394360</td>\n    </tr>\n    <tr>\n      <th>39</th>\n      <td>pla33810_n169045_uncorr-similar-weights_05</td>\n      <td>16230647</td>\n      <td>16034864</td>\n    </tr>\n    <tr>\n      <th>40</th>\n      <td>eil76_n750_uncorr_10</td>\n      <td>87806</td>\n      <td>87629</td>\n    </tr>\n    <tr>\n      <th>41</th>\n      <td>kroA100_n990_uncorr_10</td>\n      <td>158777</td>\n      <td>158279</td>\n    </tr>\n    <tr>\n      <th>42</th>\n      <td>ch130_n1290_uncorr_10</td>\n      <td>207159</td>\n      <td>207159</td>\n    </tr>\n    <tr>\n      <th>43</th>\n      <td>u159_n1580_uncorr_10</td>\n      <td>248508</td>\n      <td>248351</td>\n    </tr>\n    <tr>\n      <th>44</th>\n      <td>a280_n2790_uncorr_10</td>\n      <td>429138</td>\n      <td>429099</td>\n    </tr>\n    <tr>\n      <th>45</th>\n      <td>u574_n5730_uncorr_10</td>\n      <td>969705</td>\n      <td>968371</td>\n    </tr>\n    <tr>\n      <th>46</th>\n      <td>u724_n7230_uncorr_10</td>\n      <td>1203516</td>\n      <td>1206366</td>\n    </tr>\n    <tr>\n      <th>47</th>\n      <td>dsj1000_n9990_uncorr_10</td>\n      <td>1495041</td>\n      <td>1492045</td>\n    </tr>\n    <tr>\n      <th>48</th>\n      <td>rl1304_n13030_uncorr_10</td>\n      <td>2213935</td>\n      <td>2210598</td>\n    </tr>\n    <tr>\n      <th>49</th>\n      <td>fl1577_n15760_uncorr_10</td>\n      <td>2485371</td>\n      <td>2483177</td>\n    </tr>\n    <tr>\n      <th>50</th>\n      <td>d2103_n21020_uncorr_10</td>\n      <td>3496222</td>\n      <td>3482613</td>\n    </tr>\n    <tr>\n      <th>51</th>\n      <td>pcb3038_n30370_uncorr_10</td>\n      <td>4597719</td>\n      <td>4583180</td>\n    </tr>\n    <tr>\n      <th>52</th>\n      <td>fnl4461_n44600_uncorr_10</td>\n      <td>6572527</td>\n      <td>6568717</td>\n    </tr>\n    <tr>\n      <th>53</th>\n      <td>pla7397_n73960_uncorr_10</td>\n      <td>14520941</td>\n      <td>14382473</td>\n    </tr>\n    <tr>\n      <th>54</th>\n      <td>rl11849_n118480_uncorr_10</td>\n      <td>18355212</td>\n      <td>18415752</td>\n    </tr>\n    <tr>\n      <th>55</th>\n      <td>usa13509_n135080_uncorr_10</td>\n      <td>26375964</td>\n      <td>26537543</td>\n    </tr>\n    <tr>\n      <th>56</th>\n      <td>brd14051_n140500_uncorr_10</td>\n      <td>24196359</td>\n      <td>24073026</td>\n    </tr>\n    <tr>\n      <th>57</th>\n      <td>d15112_n151110_uncorr_10</td>\n      <td>27424573</td>\n      <td>27461281</td>\n    </tr>\n    <tr>\n      <th>58</th>\n      <td>d18512_n185110_uncorr_10</td>\n      <td>27833906</td>\n      <td>27524914</td>\n    </tr>\n    <tr>\n      <th>59</th>\n      <td>pla33810_n338090_uncorr_10</td>\n      <td>58689650</td>\n      <td>58418340</td>\n    </tr>\n  </tbody>\n</table>\n</div>"
     },
     "execution_count": 16,
     "metadata": {},
     "output_type": "execute_result"
    }
   ],
   "source": [
    "# Source: Solving travelling thief problems using coordination based methods\n",
    "# 10 runs of 10 minutes. Reports median.\n",
    "bkr_coco_pl = pd.read_csv('bkr/namaziSolvingTravellingThief2023.csv')\n",
    "bkr_coco_pl"
   ],
   "metadata": {
    "collapsed": false,
    "ExecuteTime": {
     "end_time": "2024-03-12T16:56:06.045008323Z",
     "start_time": "2024-03-12T16:56:06.001732072Z"
    }
   }
  },
  {
   "cell_type": "code",
   "execution_count": 13,
   "outputs": [
    {
     "data": {
      "text/plain": "                                 instance            S1            S2  \\\n0     a280_n1395_bounded-strongly-corr_01  7.648135e+04  8.245072e+04   \n1     a280_n1395_bounded-strongly-corr_02  1.201774e+05  1.301069e+05   \n2     a280_n1395_bounded-strongly-corr_03  1.729048e+05  1.729055e+05   \n3     a280_n1395_bounded-strongly-corr_04  2.141209e+05  2.119578e+05   \n4     a280_n1395_bounded-strongly-corr_05  2.464019e+05  2.439733e+05   \n...                                   ...           ...           ...   \n9715               vm1748_n8735_uncorr_06  1.203344e+06  1.094759e+06   \n9716               vm1748_n8735_uncorr_07  1.320074e+06  1.109405e+06   \n9717               vm1748_n8735_uncorr_08  1.275541e+06  1.267903e+06   \n9718               vm1748_n8735_uncorr_09  1.343335e+06  1.283295e+06   \n9719               vm1748_n8735_uncorr_10  1.404159e+06  1.457046e+06   \n\n                S3            S4            S5            C1            C2  \\\n0     7.677137e+04  7.647560e+04  8.331469e+04  7.709975e+04  7.697390e+04   \n1     1.203900e+05  1.203795e+05  1.306789e+05  1.208391e+05  1.198123e+05   \n2     1.728364e+05  1.730303e+05  1.811881e+05  1.721561e+05  1.709111e+05   \n3     2.139785e+05  2.141791e+05  2.198310e+05  2.114792e+05  2.106451e+05   \n4     2.455584e+05  2.464010e+05  2.502974e+05  2.413093e+05  2.473246e+05   \n...            ...           ...           ...           ...           ...   \n9715  1.095134e+06  1.217105e+06  1.264470e+06  1.261437e+06  1.087540e+06   \n9716  1.178990e+06  1.298596e+06  1.357221e+06  1.298422e+06  1.307883e+06   \n9717  1.270089e+06  1.266871e+06  1.452186e+06  1.277506e+06  1.273754e+06   \n9718  1.463895e+06  1.350134e+06  1.516501e+06  1.251552e+06  1.352369e+06   \n9719  1.571022e+06  1.462917e+06  1.613179e+06  1.367478e+06  1.465146e+06   \n\n                C3            C4  ...  WC17  CS2SA*  CS2SA-R  HLS  MEA2P  JNB  \\\n0     8.323303e+04  8.320100e+04  ...  -inf     NaN      NaN  NaN    NaN  NaN   \n1     1.307390e+05  1.305421e+05  ...  -inf     NaN      NaN  NaN    NaN  NaN   \n2     1.812498e+05  1.812115e+05  ...  -inf     NaN      NaN  NaN    NaN  NaN   \n3     2.195892e+05  2.197766e+05  ...  -inf     NaN      NaN  NaN    NaN  NaN   \n4     2.498944e+05  2.501594e+05  ...  -inf     NaN      NaN  NaN    NaN  NaN   \n...            ...           ...  ...   ...     ...      ...  ...    ...  ...   \n9715  1.238324e+06  1.241851e+06  ...  -inf     NaN      NaN  NaN    NaN  NaN   \n9716  1.344152e+06  1.364655e+06  ...  -inf     NaN      NaN  NaN    NaN  NaN   \n9717  1.441984e+06  1.459599e+06  ...  -inf     NaN      NaN  NaN    NaN  NaN   \n9718  1.516935e+06  1.484805e+06  ...  -inf     NaN      NaN  NaN    NaN  NaN   \n9719  1.591339e+06  1.644564e+06  ...  -inf     NaN      NaN  NaN    NaN  NaN   \n\n      J2B  COCO  COCOP  COCOL  \n0     NaN   NaN    NaN    NaN  \n1     NaN   NaN    NaN    NaN  \n2     NaN   NaN    NaN    NaN  \n3     NaN   NaN    NaN    NaN  \n4     NaN   NaN    NaN    NaN  \n...   ...   ...    ...    ...  \n9715  NaN   NaN    NaN    NaN  \n9716  NaN   NaN    NaN    NaN  \n9717  NaN   NaN    NaN    NaN  \n9718  NaN   NaN    NaN    NaN  \n9719  NaN   NaN    NaN    NaN  \n\n[9720 rows x 36 columns]",
      "text/html": "<div>\n<style scoped>\n    .dataframe tbody tr th:only-of-type {\n        vertical-align: middle;\n    }\n\n    .dataframe tbody tr th {\n        vertical-align: top;\n    }\n\n    .dataframe thead th {\n        text-align: right;\n    }\n</style>\n<table border=\"1\" class=\"dataframe\">\n  <thead>\n    <tr style=\"text-align: right;\">\n      <th></th>\n      <th>instance</th>\n      <th>S1</th>\n      <th>S2</th>\n      <th>S3</th>\n      <th>S4</th>\n      <th>S5</th>\n      <th>C1</th>\n      <th>C2</th>\n      <th>C3</th>\n      <th>C4</th>\n      <th>...</th>\n      <th>WC17</th>\n      <th>CS2SA*</th>\n      <th>CS2SA-R</th>\n      <th>HLS</th>\n      <th>MEA2P</th>\n      <th>JNB</th>\n      <th>J2B</th>\n      <th>COCO</th>\n      <th>COCOP</th>\n      <th>COCOL</th>\n    </tr>\n  </thead>\n  <tbody>\n    <tr>\n      <th>0</th>\n      <td>a280_n1395_bounded-strongly-corr_01</td>\n      <td>7.648135e+04</td>\n      <td>8.245072e+04</td>\n      <td>7.677137e+04</td>\n      <td>7.647560e+04</td>\n      <td>8.331469e+04</td>\n      <td>7.709975e+04</td>\n      <td>7.697390e+04</td>\n      <td>8.323303e+04</td>\n      <td>8.320100e+04</td>\n      <td>...</td>\n      <td>-inf</td>\n      <td>NaN</td>\n      <td>NaN</td>\n      <td>NaN</td>\n      <td>NaN</td>\n      <td>NaN</td>\n      <td>NaN</td>\n      <td>NaN</td>\n      <td>NaN</td>\n      <td>NaN</td>\n    </tr>\n    <tr>\n      <th>1</th>\n      <td>a280_n1395_bounded-strongly-corr_02</td>\n      <td>1.201774e+05</td>\n      <td>1.301069e+05</td>\n      <td>1.203900e+05</td>\n      <td>1.203795e+05</td>\n      <td>1.306789e+05</td>\n      <td>1.208391e+05</td>\n      <td>1.198123e+05</td>\n      <td>1.307390e+05</td>\n      <td>1.305421e+05</td>\n      <td>...</td>\n      <td>-inf</td>\n      <td>NaN</td>\n      <td>NaN</td>\n      <td>NaN</td>\n      <td>NaN</td>\n      <td>NaN</td>\n      <td>NaN</td>\n      <td>NaN</td>\n      <td>NaN</td>\n      <td>NaN</td>\n    </tr>\n    <tr>\n      <th>2</th>\n      <td>a280_n1395_bounded-strongly-corr_03</td>\n      <td>1.729048e+05</td>\n      <td>1.729055e+05</td>\n      <td>1.728364e+05</td>\n      <td>1.730303e+05</td>\n      <td>1.811881e+05</td>\n      <td>1.721561e+05</td>\n      <td>1.709111e+05</td>\n      <td>1.812498e+05</td>\n      <td>1.812115e+05</td>\n      <td>...</td>\n      <td>-inf</td>\n      <td>NaN</td>\n      <td>NaN</td>\n      <td>NaN</td>\n      <td>NaN</td>\n      <td>NaN</td>\n      <td>NaN</td>\n      <td>NaN</td>\n      <td>NaN</td>\n      <td>NaN</td>\n    </tr>\n    <tr>\n      <th>3</th>\n      <td>a280_n1395_bounded-strongly-corr_04</td>\n      <td>2.141209e+05</td>\n      <td>2.119578e+05</td>\n      <td>2.139785e+05</td>\n      <td>2.141791e+05</td>\n      <td>2.198310e+05</td>\n      <td>2.114792e+05</td>\n      <td>2.106451e+05</td>\n      <td>2.195892e+05</td>\n      <td>2.197766e+05</td>\n      <td>...</td>\n      <td>-inf</td>\n      <td>NaN</td>\n      <td>NaN</td>\n      <td>NaN</td>\n      <td>NaN</td>\n      <td>NaN</td>\n      <td>NaN</td>\n      <td>NaN</td>\n      <td>NaN</td>\n      <td>NaN</td>\n    </tr>\n    <tr>\n      <th>4</th>\n      <td>a280_n1395_bounded-strongly-corr_05</td>\n      <td>2.464019e+05</td>\n      <td>2.439733e+05</td>\n      <td>2.455584e+05</td>\n      <td>2.464010e+05</td>\n      <td>2.502974e+05</td>\n      <td>2.413093e+05</td>\n      <td>2.473246e+05</td>\n      <td>2.498944e+05</td>\n      <td>2.501594e+05</td>\n      <td>...</td>\n      <td>-inf</td>\n      <td>NaN</td>\n      <td>NaN</td>\n      <td>NaN</td>\n      <td>NaN</td>\n      <td>NaN</td>\n      <td>NaN</td>\n      <td>NaN</td>\n      <td>NaN</td>\n      <td>NaN</td>\n    </tr>\n    <tr>\n      <th>...</th>\n      <td>...</td>\n      <td>...</td>\n      <td>...</td>\n      <td>...</td>\n      <td>...</td>\n      <td>...</td>\n      <td>...</td>\n      <td>...</td>\n      <td>...</td>\n      <td>...</td>\n      <td>...</td>\n      <td>...</td>\n      <td>...</td>\n      <td>...</td>\n      <td>...</td>\n      <td>...</td>\n      <td>...</td>\n      <td>...</td>\n      <td>...</td>\n      <td>...</td>\n      <td>...</td>\n    </tr>\n    <tr>\n      <th>9715</th>\n      <td>vm1748_n8735_uncorr_06</td>\n      <td>1.203344e+06</td>\n      <td>1.094759e+06</td>\n      <td>1.095134e+06</td>\n      <td>1.217105e+06</td>\n      <td>1.264470e+06</td>\n      <td>1.261437e+06</td>\n      <td>1.087540e+06</td>\n      <td>1.238324e+06</td>\n      <td>1.241851e+06</td>\n      <td>...</td>\n      <td>-inf</td>\n      <td>NaN</td>\n      <td>NaN</td>\n      <td>NaN</td>\n      <td>NaN</td>\n      <td>NaN</td>\n      <td>NaN</td>\n      <td>NaN</td>\n      <td>NaN</td>\n      <td>NaN</td>\n    </tr>\n    <tr>\n      <th>9716</th>\n      <td>vm1748_n8735_uncorr_07</td>\n      <td>1.320074e+06</td>\n      <td>1.109405e+06</td>\n      <td>1.178990e+06</td>\n      <td>1.298596e+06</td>\n      <td>1.357221e+06</td>\n      <td>1.298422e+06</td>\n      <td>1.307883e+06</td>\n      <td>1.344152e+06</td>\n      <td>1.364655e+06</td>\n      <td>...</td>\n      <td>-inf</td>\n      <td>NaN</td>\n      <td>NaN</td>\n      <td>NaN</td>\n      <td>NaN</td>\n      <td>NaN</td>\n      <td>NaN</td>\n      <td>NaN</td>\n      <td>NaN</td>\n      <td>NaN</td>\n    </tr>\n    <tr>\n      <th>9717</th>\n      <td>vm1748_n8735_uncorr_08</td>\n      <td>1.275541e+06</td>\n      <td>1.267903e+06</td>\n      <td>1.270089e+06</td>\n      <td>1.266871e+06</td>\n      <td>1.452186e+06</td>\n      <td>1.277506e+06</td>\n      <td>1.273754e+06</td>\n      <td>1.441984e+06</td>\n      <td>1.459599e+06</td>\n      <td>...</td>\n      <td>-inf</td>\n      <td>NaN</td>\n      <td>NaN</td>\n      <td>NaN</td>\n      <td>NaN</td>\n      <td>NaN</td>\n      <td>NaN</td>\n      <td>NaN</td>\n      <td>NaN</td>\n      <td>NaN</td>\n    </tr>\n    <tr>\n      <th>9718</th>\n      <td>vm1748_n8735_uncorr_09</td>\n      <td>1.343335e+06</td>\n      <td>1.283295e+06</td>\n      <td>1.463895e+06</td>\n      <td>1.350134e+06</td>\n      <td>1.516501e+06</td>\n      <td>1.251552e+06</td>\n      <td>1.352369e+06</td>\n      <td>1.516935e+06</td>\n      <td>1.484805e+06</td>\n      <td>...</td>\n      <td>-inf</td>\n      <td>NaN</td>\n      <td>NaN</td>\n      <td>NaN</td>\n      <td>NaN</td>\n      <td>NaN</td>\n      <td>NaN</td>\n      <td>NaN</td>\n      <td>NaN</td>\n      <td>NaN</td>\n    </tr>\n    <tr>\n      <th>9719</th>\n      <td>vm1748_n8735_uncorr_10</td>\n      <td>1.404159e+06</td>\n      <td>1.457046e+06</td>\n      <td>1.571022e+06</td>\n      <td>1.462917e+06</td>\n      <td>1.613179e+06</td>\n      <td>1.367478e+06</td>\n      <td>1.465146e+06</td>\n      <td>1.591339e+06</td>\n      <td>1.644564e+06</td>\n      <td>...</td>\n      <td>-inf</td>\n      <td>NaN</td>\n      <td>NaN</td>\n      <td>NaN</td>\n      <td>NaN</td>\n      <td>NaN</td>\n      <td>NaN</td>\n      <td>NaN</td>\n      <td>NaN</td>\n      <td>NaN</td>\n    </tr>\n  </tbody>\n</table>\n<p>9720 rows × 36 columns</p>\n</div>"
     },
     "execution_count": 13,
     "metadata": {},
     "output_type": "execute_result"
    }
   ],
   "source": [
    "algos = algos + ['NDSBRKGA', 'WSM']\n",
    "algos = algos + ['JK17', 'JC17', 'MY17', 'WC17']\n",
    "algos = algos + ['HLS']\n",
    "algos = algos + ['CS2SA*', 'CS2SA-R']\n",
    "algos = algos + ['JNB', 'J2B']\n",
    "algos = algos + ['MEA2P']\n",
    "algos = algos + ['COCO']\n",
    "algos = algos + ['COCOP', 'COCOL']\n",
    "\n",
    "bkr_all = bkr_a_case.merge(bkr_wsm, on='instance', how='left') \\\n",
    "    .merge(bkr_comp_2017, on='instance', how='left') \\\n",
    "    .merge(bkr_cs2sa, on='instance', how='left') \\\n",
    "    .merge(bkr_hls, on='instance', how='left') \\\n",
    "    .merge(bkr_mea2p, on='instance', how='left') \\\n",
    "    .merge(bkr_jb, on='instance', how='left') \\\n",
    "    .merge(bkr_coco, on='instance', how='left') \\\n",
    "    .merge(bkr_coco_pl, on='instance', how='left')\n",
    "\n",
    "bkr_all"
   ],
   "metadata": {
    "collapsed": false,
    "ExecuteTime": {
     "end_time": "2024-03-12T13:41:02.456384721Z",
     "start_time": "2024-03-12T13:41:02.372400114Z"
    }
   }
  },
  {
   "cell_type": "code",
   "execution_count": 14,
   "outputs": [
    {
     "data": {
      "text/plain": "                                        instance       tsp  cities  items  \\\n2010          eil51_n50_bounded-strongly-corr_01     eil51      51      1   \n2011          eil51_n50_bounded-strongly-corr_02     eil51      51      1   \n2012          eil51_n50_bounded-strongly-corr_03     eil51      51      1   \n2013          eil51_n50_bounded-strongly-corr_04     eil51      51      1   \n2014          eil51_n50_bounded-strongly-corr_05     eil51      51      1   \n...                                          ...       ...     ...    ...   \n5115  pla85900_n858990_uncorr-similar-weights_06  pla85900   85900     10   \n5116  pla85900_n858990_uncorr-similar-weights_07  pla85900   85900     10   \n5117  pla85900_n858990_uncorr-similar-weights_08  pla85900   85900     10   \n5118  pla85900_n858990_uncorr-similar-weights_09  pla85900   85900     10   \n5119  pla85900_n858990_uncorr-similar-weights_10  pla85900   85900     10   \n\n     type  capacity         best                 algo            S1  \\\n2010  bsc         1       4269.0     M4,M3B,M4B,MEA2P  3.840452e+03   \n2011  bsc         2       5571.0            M4B,MEA2P  5.075717e+03   \n2012  bsc         3       5885.0            M4B,MEA2P  5.100600e+03   \n2013  bsc         4       6397.0                 JC17  5.531323e+03   \n2014  bsc         5       5138.0  NDSBRKGA,JC17,MEA2P  3.924921e+03   \n...   ...       ...          ...                  ...           ...   \n5115  usw         6   76211200.0                MATLS  7.453485e+07   \n5116  usw         7   84815500.0                MATLS  8.047401e+07   \n5117  usw         8  105513000.0                MATLS  9.181532e+07   \n5118  usw         9  118020000.0                MATLS  1.006513e+08   \n5119  usw        10  117528665.0                   S4  1.143217e+08   \n\n                S2  ...  WC17     HLS  CS2SA*  CS2SA-R  JNB  J2B   MEA2P  \\\n2010  3.837007e+03  ...  -inf  3841.0    -inf     -inf -inf -inf  4269.0   \n2011  5.075717e+03  ...  -inf    -inf    -inf     -inf -inf -inf  5571.0   \n2012  4.213837e+03  ...  -inf    -inf    -inf     -inf -inf -inf  5885.0   \n2013  4.115148e+03  ...  -inf    -inf    -inf     -inf -inf -inf  6386.0   \n2014  2.266464e+03  ...  -inf    -inf    -inf     -inf -inf -inf  5138.0   \n...            ...  ...   ...     ...     ...      ...  ...  ...     ...   \n5115  7.460948e+07  ...  -inf    -inf    -inf     -inf -inf -inf    -inf   \n5116  8.396784e+07  ...  -inf    -inf    -inf     -inf -inf -inf    -inf   \n5117  9.285223e+07  ...  -inf    -inf    -inf     -inf -inf -inf    -inf   \n5118  1.021935e+08  ...  -inf    -inf    -inf     -inf -inf -inf    -inf   \n5119  1.148376e+08  ...  -inf    -inf    -inf     -inf -inf -inf    -inf   \n\n      COCO  COCOP  COCOL  \n2010  -inf   -inf   -inf  \n2011  -inf   -inf   -inf  \n2012  -inf   -inf   -inf  \n2013  -inf   -inf   -inf  \n2014  -inf   -inf   -inf  \n...    ...    ...    ...  \n5115  -inf   -inf   -inf  \n5116  -inf   -inf   -inf  \n5117  -inf   -inf   -inf  \n5118  -inf   -inf   -inf  \n5119  -inf   -inf   -inf  \n\n[9720 rows x 43 columns]",
      "text/html": "<div>\n<style scoped>\n    .dataframe tbody tr th:only-of-type {\n        vertical-align: middle;\n    }\n\n    .dataframe tbody tr th {\n        vertical-align: top;\n    }\n\n    .dataframe thead th {\n        text-align: right;\n    }\n</style>\n<table border=\"1\" class=\"dataframe\">\n  <thead>\n    <tr style=\"text-align: right;\">\n      <th></th>\n      <th>instance</th>\n      <th>tsp</th>\n      <th>cities</th>\n      <th>items</th>\n      <th>type</th>\n      <th>capacity</th>\n      <th>best</th>\n      <th>algo</th>\n      <th>S1</th>\n      <th>S2</th>\n      <th>...</th>\n      <th>WC17</th>\n      <th>HLS</th>\n      <th>CS2SA*</th>\n      <th>CS2SA-R</th>\n      <th>JNB</th>\n      <th>J2B</th>\n      <th>MEA2P</th>\n      <th>COCO</th>\n      <th>COCOP</th>\n      <th>COCOL</th>\n    </tr>\n  </thead>\n  <tbody>\n    <tr>\n      <th>2010</th>\n      <td>eil51_n50_bounded-strongly-corr_01</td>\n      <td>eil51</td>\n      <td>51</td>\n      <td>1</td>\n      <td>bsc</td>\n      <td>1</td>\n      <td>4269.0</td>\n      <td>M4,M3B,M4B,MEA2P</td>\n      <td>3.840452e+03</td>\n      <td>3.837007e+03</td>\n      <td>...</td>\n      <td>-inf</td>\n      <td>3841.0</td>\n      <td>-inf</td>\n      <td>-inf</td>\n      <td>-inf</td>\n      <td>-inf</td>\n      <td>4269.0</td>\n      <td>-inf</td>\n      <td>-inf</td>\n      <td>-inf</td>\n    </tr>\n    <tr>\n      <th>2011</th>\n      <td>eil51_n50_bounded-strongly-corr_02</td>\n      <td>eil51</td>\n      <td>51</td>\n      <td>1</td>\n      <td>bsc</td>\n      <td>2</td>\n      <td>5571.0</td>\n      <td>M4B,MEA2P</td>\n      <td>5.075717e+03</td>\n      <td>5.075717e+03</td>\n      <td>...</td>\n      <td>-inf</td>\n      <td>-inf</td>\n      <td>-inf</td>\n      <td>-inf</td>\n      <td>-inf</td>\n      <td>-inf</td>\n      <td>5571.0</td>\n      <td>-inf</td>\n      <td>-inf</td>\n      <td>-inf</td>\n    </tr>\n    <tr>\n      <th>2012</th>\n      <td>eil51_n50_bounded-strongly-corr_03</td>\n      <td>eil51</td>\n      <td>51</td>\n      <td>1</td>\n      <td>bsc</td>\n      <td>3</td>\n      <td>5885.0</td>\n      <td>M4B,MEA2P</td>\n      <td>5.100600e+03</td>\n      <td>4.213837e+03</td>\n      <td>...</td>\n      <td>-inf</td>\n      <td>-inf</td>\n      <td>-inf</td>\n      <td>-inf</td>\n      <td>-inf</td>\n      <td>-inf</td>\n      <td>5885.0</td>\n      <td>-inf</td>\n      <td>-inf</td>\n      <td>-inf</td>\n    </tr>\n    <tr>\n      <th>2013</th>\n      <td>eil51_n50_bounded-strongly-corr_04</td>\n      <td>eil51</td>\n      <td>51</td>\n      <td>1</td>\n      <td>bsc</td>\n      <td>4</td>\n      <td>6397.0</td>\n      <td>JC17</td>\n      <td>5.531323e+03</td>\n      <td>4.115148e+03</td>\n      <td>...</td>\n      <td>-inf</td>\n      <td>-inf</td>\n      <td>-inf</td>\n      <td>-inf</td>\n      <td>-inf</td>\n      <td>-inf</td>\n      <td>6386.0</td>\n      <td>-inf</td>\n      <td>-inf</td>\n      <td>-inf</td>\n    </tr>\n    <tr>\n      <th>2014</th>\n      <td>eil51_n50_bounded-strongly-corr_05</td>\n      <td>eil51</td>\n      <td>51</td>\n      <td>1</td>\n      <td>bsc</td>\n      <td>5</td>\n      <td>5138.0</td>\n      <td>NDSBRKGA,JC17,MEA2P</td>\n      <td>3.924921e+03</td>\n      <td>2.266464e+03</td>\n      <td>...</td>\n      <td>-inf</td>\n      <td>-inf</td>\n      <td>-inf</td>\n      <td>-inf</td>\n      <td>-inf</td>\n      <td>-inf</td>\n      <td>5138.0</td>\n      <td>-inf</td>\n      <td>-inf</td>\n      <td>-inf</td>\n    </tr>\n    <tr>\n      <th>...</th>\n      <td>...</td>\n      <td>...</td>\n      <td>...</td>\n      <td>...</td>\n      <td>...</td>\n      <td>...</td>\n      <td>...</td>\n      <td>...</td>\n      <td>...</td>\n      <td>...</td>\n      <td>...</td>\n      <td>...</td>\n      <td>...</td>\n      <td>...</td>\n      <td>...</td>\n      <td>...</td>\n      <td>...</td>\n      <td>...</td>\n      <td>...</td>\n      <td>...</td>\n      <td>...</td>\n    </tr>\n    <tr>\n      <th>5115</th>\n      <td>pla85900_n858990_uncorr-similar-weights_06</td>\n      <td>pla85900</td>\n      <td>85900</td>\n      <td>10</td>\n      <td>usw</td>\n      <td>6</td>\n      <td>76211200.0</td>\n      <td>MATLS</td>\n      <td>7.453485e+07</td>\n      <td>7.460948e+07</td>\n      <td>...</td>\n      <td>-inf</td>\n      <td>-inf</td>\n      <td>-inf</td>\n      <td>-inf</td>\n      <td>-inf</td>\n      <td>-inf</td>\n      <td>-inf</td>\n      <td>-inf</td>\n      <td>-inf</td>\n      <td>-inf</td>\n    </tr>\n    <tr>\n      <th>5116</th>\n      <td>pla85900_n858990_uncorr-similar-weights_07</td>\n      <td>pla85900</td>\n      <td>85900</td>\n      <td>10</td>\n      <td>usw</td>\n      <td>7</td>\n      <td>84815500.0</td>\n      <td>MATLS</td>\n      <td>8.047401e+07</td>\n      <td>8.396784e+07</td>\n      <td>...</td>\n      <td>-inf</td>\n      <td>-inf</td>\n      <td>-inf</td>\n      <td>-inf</td>\n      <td>-inf</td>\n      <td>-inf</td>\n      <td>-inf</td>\n      <td>-inf</td>\n      <td>-inf</td>\n      <td>-inf</td>\n    </tr>\n    <tr>\n      <th>5117</th>\n      <td>pla85900_n858990_uncorr-similar-weights_08</td>\n      <td>pla85900</td>\n      <td>85900</td>\n      <td>10</td>\n      <td>usw</td>\n      <td>8</td>\n      <td>105513000.0</td>\n      <td>MATLS</td>\n      <td>9.181532e+07</td>\n      <td>9.285223e+07</td>\n      <td>...</td>\n      <td>-inf</td>\n      <td>-inf</td>\n      <td>-inf</td>\n      <td>-inf</td>\n      <td>-inf</td>\n      <td>-inf</td>\n      <td>-inf</td>\n      <td>-inf</td>\n      <td>-inf</td>\n      <td>-inf</td>\n    </tr>\n    <tr>\n      <th>5118</th>\n      <td>pla85900_n858990_uncorr-similar-weights_09</td>\n      <td>pla85900</td>\n      <td>85900</td>\n      <td>10</td>\n      <td>usw</td>\n      <td>9</td>\n      <td>118020000.0</td>\n      <td>MATLS</td>\n      <td>1.006513e+08</td>\n      <td>1.021935e+08</td>\n      <td>...</td>\n      <td>-inf</td>\n      <td>-inf</td>\n      <td>-inf</td>\n      <td>-inf</td>\n      <td>-inf</td>\n      <td>-inf</td>\n      <td>-inf</td>\n      <td>-inf</td>\n      <td>-inf</td>\n      <td>-inf</td>\n    </tr>\n    <tr>\n      <th>5119</th>\n      <td>pla85900_n858990_uncorr-similar-weights_10</td>\n      <td>pla85900</td>\n      <td>85900</td>\n      <td>10</td>\n      <td>usw</td>\n      <td>10</td>\n      <td>117528665.0</td>\n      <td>S4</td>\n      <td>1.143217e+08</td>\n      <td>1.148376e+08</td>\n      <td>...</td>\n      <td>-inf</td>\n      <td>-inf</td>\n      <td>-inf</td>\n      <td>-inf</td>\n      <td>-inf</td>\n      <td>-inf</td>\n      <td>-inf</td>\n      <td>-inf</td>\n      <td>-inf</td>\n      <td>-inf</td>\n    </tr>\n  </tbody>\n</table>\n<p>9720 rows × 43 columns</p>\n</div>"
     },
     "execution_count": 14,
     "metadata": {},
     "output_type": "execute_result"
    }
   ],
   "source": [
    "def to_int(series):\n",
    "    return pd.DataFrame([int(''.join([c for c in s if c.isdigit()])) for s in series])\n",
    "\n",
    "\n",
    "def ttp_type(series):\n",
    "    return ['unc' if s == 'uncorr' else 'bsc' if s == 'bounded-strongly-corr' else 'usw' for s in series]\n",
    "\n",
    "\n",
    "bkr = bkr_all.copy()\n",
    "bkr.fillna(-np.inf, inplace=True)\n",
    "\n",
    "instance_split = bkr.instance.str.split('_')\n",
    "\n",
    "bkr['tsp'] = instance_split.str[0]\n",
    "bkr['cities'] = to_int(instance_split.str[0])\n",
    "bkr['items'] = to_int(instance_split.str[1]) // (to_int(instance_split.str[0]) - 1)\n",
    "bkr['type'] = ttp_type(instance_split.str[2])\n",
    "bkr['capacity'] = to_int(instance_split.str[3])\n",
    "\n",
    "bkr['best'] = bkr[algos].round(0).max(axis=1)\n",
    "bkr['algo'] = bkr[algos].round(0).idxmax(axis=1)\n",
    "\n",
    "bkr = bkr.sort_values(by=['cities', 'items', 'type', 'capacity'])\n",
    "\n",
    "for index, row in bkr.iterrows():\n",
    "    best = round(max(row[algos]), 0)\n",
    "\n",
    "    res = ''\n",
    "    for algo in algos:\n",
    "        if round(row[algo], 0) == best:\n",
    "            res += algo + ','\n",
    "\n",
    "    bkr.loc[index, 'algo'] = res[:-1]\n",
    "\n",
    "bkr = bkr[['instance', 'tsp', 'cities', 'items', 'type', 'capacity', 'best', 'algo'] + algos]\n",
    "bkr"
   ],
   "metadata": {
    "collapsed": false,
    "ExecuteTime": {
     "end_time": "2024-03-12T13:41:05.598766560Z",
     "start_time": "2024-03-12T13:41:02.431392316Z"
    }
   }
  },
  {
   "cell_type": "code",
   "execution_count": 15,
   "outputs": [],
   "source": [
    "bkr.to_csv(\"bkr/bkrs.csv\", index=False)"
   ],
   "metadata": {
    "collapsed": false,
    "ExecuteTime": {
     "end_time": "2024-03-12T13:41:05.749391353Z",
     "start_time": "2024-03-12T13:41:05.599084198Z"
    }
   }
  },
  {
   "cell_type": "code",
   "execution_count": 15,
   "outputs": [],
   "source": [],
   "metadata": {
    "collapsed": false,
    "ExecuteTime": {
     "end_time": "2024-03-12T13:41:05.792773958Z",
     "start_time": "2024-03-12T13:41:05.750393865Z"
    }
   }
  }
 ],
 "metadata": {
  "kernelspec": {
   "display_name": "Python 3",
   "language": "python",
   "name": "python3"
  },
  "language_info": {
   "codemirror_mode": {
    "name": "ipython",
    "version": 2
   },
   "file_extension": ".py",
   "mimetype": "text/x-python",
   "name": "python",
   "nbconvert_exporter": "python",
   "pygments_lexer": "ipython2",
   "version": "2.7.6"
  }
 },
 "nbformat": 4,
 "nbformat_minor": 0
}
